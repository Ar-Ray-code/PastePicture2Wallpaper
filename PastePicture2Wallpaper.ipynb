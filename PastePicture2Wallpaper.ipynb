{
  "cells": [
    {
      "cell_type": "markdown",
      "metadata": {
        "id": "SwUzOv_YJ5c_"
      },
      "source": [
        "# PastePicture2Wallpaper　\n",
        "\n",
        "壁紙作成のための線画作成ツールです🎠\n",
        "\n",
        "**GPUランタイムで実行してください**\n",
        "\n",
        "<br>\n",
        "\n",
        "処理手順\n",
        "1. 深度閾値に従ってMidasを用いた単眼深度推定を行います\n",
        "2. Canny法による線画抽出を行います(線画化過程でノイズ除去や線を太くするなどの処理を行っています)\n",
        "3. OSの雰囲気に応じて半透明化した線画を出力します（result.pngという名前で出力されます）\n",
        "\n",
        "<br>\n",
        "\n",
        "🆕 : informative_drawingsが有効になりました。（デフォルト：True）\n",
        "\n",
        "informative_drawingsはAIによって線画抽出を行います。\n",
        "\n",
        "- median_k_sizeとmodeのオプションは無視されます。\n",
        "\n",
        "<br>\n",
        "\n",
        "以下のパラメータで値を弄ってください\n",
        "\n",
        "\n",
        "<!-- - image_upload_option: 画像をアップロードする方法 -->\n",
        "  <!-- - `Upload from device`: デバイスからアップロード -->\n",
        "  <!-- - `URL`: URLからダウンロード -->\n",
        "  <!-- - `Mount Drive`: Google Driveのマウントを行う -->\n",
        "<!-- - path_or_url: ダウンロード先のURLかマウント先のデバイスのパスを指定(Upload from devieの場合は無視されます) -->\n",
        "- mode: 線画処理のモード\n",
        "  - Anime : アニメ風の輪郭がはっきりとしている画像向け\n",
        "- OS: 壁紙のOSの種類によって出力される線画の雰囲気が少し変わります\n",
        "  - Mac風(灰色):パステルカラーの背景に合わせて半透明の灰色線画を出力\n",
        "  - Mac風(白色):鮮やかな背景に半透明の白線画を出力\n",
        "  - Windows風: 水色の背景にさらに明るい水色半透明の線画を出力\n",
        "  - Ubuntu風: 紫-桃色の背景に馴染む桃色半透明の線画を出力\n",
        "- median_k_size: 細かなノイズを除去します。1の場合、無効化します。\n",
        "- morph_g_ksize: モロフォジー変換用カーネルサイズ。膨張した画像と収縮した画像の差分をとる処理を行い、物体の輪郭を得ます。1の場合は無効化します。\n",
        "- depth_threshold: 出力された深度情報をもとに線画化するための閾値\n",
        "\n",
        "\n",
        "\n",
        "![](https://raw.githubusercontent.com/Ar-Ray-code/PastePicture2Wallpaper/main/images_for_readme/export-variation.png)\n",
        "\n",
        "> デバイスからのアップロードのみ受け付けています\n",
        "> \n",
        "> 直接URLを指定する場合は4番目のコードセルのURLを変更してコメントアウトを外し、以降のセルを実行（Ctrl+F10） を行ってください"
      ]
    },
    {
      "cell_type": "code",
      "execution_count": 1,
      "metadata": {
        "id": "9UIXNyyXdKaO"
      },
      "outputs": [],
      "source": [
        "# image_upload_option = 'Upload from device' #@param [\"Upload from device\", \"URL\", \"Mount Drive\"] {allow-input: true}\n",
        "# path_or_url = \"/content/sample.jpg\"#@param {type:\"string\"}\n",
        "\n",
        "mode = 'Anime' #@param [\"Anime\"] {allow-input: true}\n",
        "OS =  'Mac-Gray' #@param [\"Ubuntu\",\"Windows\",\"Mac-White\",\"Mac-Gray\"] {allow-input: true}\n",
        "using_informative_drawings = \"True\" #@param [\"True\", \"False\"] {allow-input: true}\n",
        "remove_back = 'ISNet' #@param [\"ISNet\", \"Midas\"]\n",
        "\n",
        "# median_ksize=median_ksize, morph_g_ksize=morph_g_ksize\n",
        "\n",
        "median_ksize = 5 #@param {type:\"slider\", min:1, max:9, step:2}\n",
        "morph_g_ksize = 5 #@param {type:\"slider\", min:1, max:9, step:2}\n",
        "depth_threshold = 150 #@param {type:\"slider\", min:0, max:255, step:1}\n",
        "canny_threshold = 150 #@param {type:\"slider\", min:0, max:255, step:1}\n",
        "\n",
        "default_picture = \"True\" #@param [\"True\", \"False\"] {allow-input: true}"
      ]
    },
    {
      "cell_type": "code",
      "source": [
        "print(\"mode=\",mode)\n",
        "print(\"OS=\",OS)\n",
        "print(\"using_informative_drawings=\",using_informative_drawings)\n",
        "print(\"remove_back=\",remove_back)\n",
        "print(\"median_ksize=\",median_ksize)\n",
        "print(\"morph_g_ksize=\",morph_g_ksize)\n",
        "print(\"depth_threshold=\",depth_threshold)\n",
        "print(\"canny_threshold=\",canny_threshold)\n",
        "print(\"default_picture=\",default_picture)"
      ],
      "metadata": {
        "colab": {
          "base_uri": "https://localhost:8080/"
        },
        "id": "hXEDMxIxs7sT",
        "outputId": "bb761d78-b337-41e8-8a6e-75eb3cde65f0"
      },
      "execution_count": 2,
      "outputs": [
        {
          "output_type": "stream",
          "name": "stdout",
          "text": [
            "mode= Anime\n",
            "OS= Mac-Gray\n",
            "using_informative_drawings= True\n",
            "remove_back= ISNet\n",
            "median_ksize= 5\n",
            "morph_g_ksize= 5\n",
            "depth_threshold= 150\n",
            "canny_threshold= 150\n",
            "default_picture= True\n"
          ]
        }
      ]
    },
    {
      "cell_type": "code",
      "source": [
        "!pip install wget"
      ],
      "metadata": {
        "colab": {
          "base_uri": "https://localhost:8080/"
        },
        "id": "jaFyU0CnwWz8",
        "outputId": "40e54975-d424-46ab-84bd-7ba3c23f5c27"
      },
      "execution_count": 3,
      "outputs": [
        {
          "output_type": "stream",
          "name": "stdout",
          "text": [
            "Looking in indexes: https://pypi.org/simple, https://us-python.pkg.dev/colab-wheels/public/simple/\n",
            "Collecting wget\n",
            "  Downloading wget-3.2.zip (10 kB)\n",
            "  Preparing metadata (setup.py) ... \u001b[?25l\u001b[?25hdone\n",
            "Building wheels for collected packages: wget\n",
            "  Building wheel for wget (setup.py) ... \u001b[?25l\u001b[?25hdone\n",
            "  Created wheel for wget: filename=wget-3.2-py3-none-any.whl size=9657 sha256=edc7fe659dfecde18ab938f67187e8d65e90b3f9c0c3a895a0f72cc42cabc8ee\n",
            "  Stored in directory: /root/.cache/pip/wheels/8b/f1/7f/5c94f0a7a505ca1c81cd1d9208ae2064675d97582078e6c769\n",
            "Successfully built wget\n",
            "Installing collected packages: wget\n",
            "Successfully installed wget-3.2\n"
          ]
        }
      ]
    },
    {
      "cell_type": "code",
      "source": [
        "!cd /content/\n",
        "!rm /content/*.*g"
      ],
      "metadata": {
        "id": "alrXbJMnDigz",
        "outputId": "13c8b90a-fbcd-4e5f-8124-faf76b879a0e",
        "colab": {
          "base_uri": "https://localhost:8080/"
        }
      },
      "execution_count": 4,
      "outputs": [
        {
          "output_type": "stream",
          "name": "stdout",
          "text": [
            "rm: cannot remove '/content/*.*g': No such file or directory\n"
          ]
        }
      ]
    },
    {
      "cell_type": "code",
      "execution_count": 5,
      "metadata": {
        "id": "8PbJjVsrTrzK"
      },
      "outputs": [],
      "source": [
        "# Upload from device\n",
        "import os\n",
        "if default_picture == \"True\":\n",
        "    import wget\n",
        "    os.chdir('/content/')\n",
        "    url = 'https://s3.ap-northeast-1.wasabisys.com/download-raw/urara/album/urara-toresen.jpg'\n",
        "    filename = wget.download(url)\n",
        "else:\n",
        "    from google.colab import files\n",
        "    uploaded = files.upload()\n",
        "\n",
        "#@markdown ### アップロードを (Choose Files)から行ってください\n",
        "#@markdown Driveのマウントの場合はこのステップを飛ばして、新しくコードセルを作成して、`/content`に対象ファイルをコピーしてください\n",
        "\n",
        "# from google.colab import drive\n",
        "# drive.mount('/content/drive')\n",
        "\n",
        "#@markdown <br>\n",
        "\n",
        "#@markdown ### default_picture=Trueの場合\n",
        "#@markdown - [urara-toresen.jpg](https://s3.ap-northeast-1.wasabisys.com/download-raw/urara/album/urara-toresen.jpg) がダウンロードされます。\n"
      ]
    },
    {
      "cell_type": "code",
      "execution_count": 6,
      "metadata": {
        "id": "maDiodVfAc1F"
      },
      "outputs": [],
      "source": [
        "#@markdown ###URLを指定する場合はこちらを編集し、upload.jpgで保存すること\n",
        "# !rm sample.jpg\n",
        "# !wget \"https://drive.google.com/uc?export=download&id=1M1eDdinWr-aPT28cyOo01LlMFUnsBbRQ\" -O upload.jpg"
      ]
    },
    {
      "cell_type": "code",
      "execution_count": 7,
      "metadata": {
        "id": "LofUpIu2f2bJ",
        "colab": {
          "base_uri": "https://localhost:8080/"
        },
        "outputId": "58e1944e-aca5-44d3-82fe-463824b72469"
      },
      "outputs": [
        {
          "output_type": "stream",
          "name": "stdout",
          "text": [
            "ffmpeg version 4.2.7-0ubuntu0.1 Copyright (c) 2000-2022 the FFmpeg developers\n",
            "  built with gcc 9 (Ubuntu 9.4.0-1ubuntu1~20.04.1)\n",
            "  configuration: --prefix=/usr --extra-version=0ubuntu0.1 --toolchain=hardened --libdir=/usr/lib/x86_64-linux-gnu --incdir=/usr/include/x86_64-linux-gnu --arch=amd64 --enable-gpl --disable-stripping --enable-avresample --disable-filter=resample --enable-avisynth --enable-gnutls --enable-ladspa --enable-libaom --enable-libass --enable-libbluray --enable-libbs2b --enable-libcaca --enable-libcdio --enable-libcodec2 --enable-libflite --enable-libfontconfig --enable-libfreetype --enable-libfribidi --enable-libgme --enable-libgsm --enable-libjack --enable-libmp3lame --enable-libmysofa --enable-libopenjpeg --enable-libopenmpt --enable-libopus --enable-libpulse --enable-librsvg --enable-librubberband --enable-libshine --enable-libsnappy --enable-libsoxr --enable-libspeex --enable-libssh --enable-libtheora --enable-libtwolame --enable-libvidstab --enable-libvorbis --enable-libvpx --enable-libwavpack --enable-libwebp --enable-libx265 --enable-libxml2 --enable-libxvid --enable-libzmq --enable-libzvbi --enable-lv2 --enable-omx --enable-openal --enable-opencl --enable-opengl --enable-sdl2 --enable-libdc1394 --enable-libdrm --enable-libiec61883 --enable-nvenc --enable-chromaprint --enable-frei0r --enable-libx264 --enable-shared\n",
            "  libavutil      56. 31.100 / 56. 31.100\n",
            "  libavcodec     58. 54.100 / 58. 54.100\n",
            "  libavformat    58. 29.100 / 58. 29.100\n",
            "  libavdevice    58.  8.100 / 58.  8.100\n",
            "  libavfilter     7. 57.100 /  7. 57.100\n",
            "  libavresample   4.  0.  0 /  4.  0.  0\n",
            "  libswscale      5.  5.100 /  5.  5.100\n",
            "  libswresample   3.  5.100 /  3.  5.100\n",
            "  libpostproc    55.  5.100 / 55.  5.100\n",
            "Input #0, image2, from 'urara-toresen.jpg':\n",
            "  Duration: 00:00:00.04, start: 0.000000, bitrate: 518236 kb/s\n",
            "    Stream #0:0: Video: mjpeg (Baseline), yuvj444p(pc, bt470bg/unknown/unknown), 1640x2148 [SAR 144:144 DAR 410:537], 25 tbr, 25 tbn, 25 tbc\n",
            "Stream mapping:\n",
            "  Stream #0:0 -> #0:0 (mjpeg (native) -> mjpeg (native))\n",
            "Press [q] to stop, [?] for help\n",
            "\u001b[1;34m[swscaler @ 0x55abd3332940] \u001b[0m\u001b[0;33mdeprecated pixel format used, make sure you did set range correctly\n",
            "\u001b[0mOutput #0, image2, to 'upload.jpg':\n",
            "  Metadata:\n",
            "    encoder         : Lavf58.29.100\n",
            "    Stream #0:0: Video: mjpeg, yuvj444p(pc), 550x720 [SAR 1968:1969 DAR 410:537], q=2-31, 200 kb/s, 25 fps, 25 tbn, 25 tbc\n",
            "    Metadata:\n",
            "      encoder         : Lavc58.54.100 mjpeg\n",
            "    Side data:\n",
            "      cpb: bitrate max/min/avg: 0/0/200000 buffer size: 0 vbv_delay: -1\n",
            "frame=    1 fps=0.0 q=6.8 Lsize=N/A time=00:00:00.04 bitrate=N/A speed=0.174x    \n",
            "video:72kB audio:0kB subtitle:0kB other streams:0kB global headers:0kB muxing overhead: unknown\n"
          ]
        }
      ],
      "source": [
        "!ffmpeg -i *.*g -vf scale=-1:720 upload.jpg"
      ]
    },
    {
      "cell_type": "code",
      "execution_count": 8,
      "metadata": {
        "id": "Z81Rg6PoAhDc",
        "colab": {
          "base_uri": "https://localhost:8080/"
        },
        "outputId": "fa86d820-762a-4ae1-d14a-67346d7879bd"
      },
      "outputs": [
        {
          "output_type": "stream",
          "name": "stdout",
          "text": [
            "Looking in indexes: https://pypi.org/simple, https://us-python.pkg.dev/colab-wheels/public/simple/\n",
            "Collecting tensorflow==2.8.0\n",
            "  Downloading tensorflow-2.8.0-cp310-cp310-manylinux2010_x86_64.whl (497.6 MB)\n",
            "\u001b[2K     \u001b[90m━━━━━━━━━━━━━━━━━━━━━━━━━━━━━━━━━━━━━━━\u001b[0m \u001b[32m497.6/497.6 MB\u001b[0m \u001b[31m2.8 MB/s\u001b[0m eta \u001b[36m0:00:00\u001b[0m\n",
            "\u001b[?25hCollecting tensorflow-hub==0.12.0\n",
            "  Downloading tensorflow_hub-0.12.0-py2.py3-none-any.whl (108 kB)\n",
            "\u001b[2K     \u001b[90m━━━━━━━━━━━━━━━━━━━━━━━━━━━━━━━━━━━━━━\u001b[0m \u001b[32m108.8/108.8 kB\u001b[0m \u001b[31m12.1 MB/s\u001b[0m eta \u001b[36m0:00:00\u001b[0m\n",
            "\u001b[?25hCollecting onnxruntime==1.15.0\n",
            "  Downloading onnxruntime-1.15.0-cp310-cp310-manylinux_2_17_x86_64.manylinux2014_x86_64.whl (5.9 MB)\n",
            "\u001b[2K     \u001b[90m━━━━━━━━━━━━━━━━━━━━━━━━━━━━━━━━━━━━━━━━\u001b[0m \u001b[32m5.9/5.9 MB\u001b[0m \u001b[31m51.9 MB/s\u001b[0m eta \u001b[36m0:00:00\u001b[0m\n",
            "\u001b[?25hCollecting onnx==1.14.0\n",
            "  Downloading onnx-1.14.0-cp310-cp310-manylinux_2_17_x86_64.manylinux2014_x86_64.whl (14.6 MB)\n",
            "\u001b[2K     \u001b[90m━━━━━━━━━━━━━━━━━━━━━━━━━━━━━━━━━━━━━━━━\u001b[0m \u001b[32m14.6/14.6 MB\u001b[0m \u001b[31m67.0 MB/s\u001b[0m eta \u001b[36m0:00:00\u001b[0m\n",
            "\u001b[?25hRequirement already satisfied: absl-py>=0.4.0 in /usr/local/lib/python3.10/dist-packages (from tensorflow==2.8.0) (1.4.0)\n",
            "Requirement already satisfied: astunparse>=1.6.0 in /usr/local/lib/python3.10/dist-packages (from tensorflow==2.8.0) (1.6.3)\n",
            "Requirement already satisfied: flatbuffers>=1.12 in /usr/local/lib/python3.10/dist-packages (from tensorflow==2.8.0) (23.3.3)\n",
            "Requirement already satisfied: gast>=0.2.1 in /usr/local/lib/python3.10/dist-packages (from tensorflow==2.8.0) (0.4.0)\n",
            "Requirement already satisfied: google-pasta>=0.1.1 in /usr/local/lib/python3.10/dist-packages (from tensorflow==2.8.0) (0.2.0)\n",
            "Requirement already satisfied: h5py>=2.9.0 in /usr/local/lib/python3.10/dist-packages (from tensorflow==2.8.0) (3.8.0)\n",
            "Collecting keras-preprocessing>=1.1.1 (from tensorflow==2.8.0)\n",
            "  Downloading Keras_Preprocessing-1.1.2-py2.py3-none-any.whl (42 kB)\n",
            "\u001b[2K     \u001b[90m━━━━━━━━━━━━━━━━━━━━━━━━━━━━━━━━━━━━━━━━\u001b[0m \u001b[32m42.6/42.6 kB\u001b[0m \u001b[31m5.5 MB/s\u001b[0m eta \u001b[36m0:00:00\u001b[0m\n",
            "\u001b[?25hRequirement already satisfied: libclang>=9.0.1 in /usr/local/lib/python3.10/dist-packages (from tensorflow==2.8.0) (16.0.0)\n",
            "Requirement already satisfied: numpy>=1.20 in /usr/local/lib/python3.10/dist-packages (from tensorflow==2.8.0) (1.22.4)\n",
            "Requirement already satisfied: opt-einsum>=2.3.2 in /usr/local/lib/python3.10/dist-packages (from tensorflow==2.8.0) (3.3.0)\n",
            "Requirement already satisfied: protobuf>=3.9.2 in /usr/local/lib/python3.10/dist-packages (from tensorflow==2.8.0) (3.20.3)\n",
            "Requirement already satisfied: setuptools in /usr/local/lib/python3.10/dist-packages (from tensorflow==2.8.0) (67.7.2)\n",
            "Requirement already satisfied: six>=1.12.0 in /usr/local/lib/python3.10/dist-packages (from tensorflow==2.8.0) (1.16.0)\n",
            "Requirement already satisfied: termcolor>=1.1.0 in /usr/local/lib/python3.10/dist-packages (from tensorflow==2.8.0) (2.3.0)\n",
            "Requirement already satisfied: typing-extensions>=3.6.6 in /usr/local/lib/python3.10/dist-packages (from tensorflow==2.8.0) (4.5.0)\n",
            "Requirement already satisfied: wrapt>=1.11.0 in /usr/local/lib/python3.10/dist-packages (from tensorflow==2.8.0) (1.14.1)\n",
            "Collecting tensorboard<2.9,>=2.8 (from tensorflow==2.8.0)\n",
            "  Downloading tensorboard-2.8.0-py3-none-any.whl (5.8 MB)\n",
            "\u001b[2K     \u001b[90m━━━━━━━━━━━━━━━━━━━━━━━━━━━━━━━━━━━━━━━━\u001b[0m \u001b[32m5.8/5.8 MB\u001b[0m \u001b[31m37.7 MB/s\u001b[0m eta \u001b[36m0:00:00\u001b[0m\n",
            "\u001b[?25hCollecting tf-estimator-nightly==2.8.0.dev2021122109 (from tensorflow==2.8.0)\n",
            "  Downloading tf_estimator_nightly-2.8.0.dev2021122109-py2.py3-none-any.whl (462 kB)\n",
            "\u001b[2K     \u001b[90m━━━━━━━━━━━━━━━━━━━━━━━━━━━━━━━━━━━━━━\u001b[0m \u001b[32m462.5/462.5 kB\u001b[0m \u001b[31m38.2 MB/s\u001b[0m eta \u001b[36m0:00:00\u001b[0m\n",
            "\u001b[?25hCollecting keras<2.9,>=2.8.0rc0 (from tensorflow==2.8.0)\n",
            "  Downloading keras-2.8.0-py2.py3-none-any.whl (1.4 MB)\n",
            "\u001b[2K     \u001b[90m━━━━━━━━━━━━━━━━━━━━━━━━━━━━━━━━━━━━━━━━\u001b[0m \u001b[32m1.4/1.4 MB\u001b[0m \u001b[31m66.3 MB/s\u001b[0m eta \u001b[36m0:00:00\u001b[0m\n",
            "\u001b[?25hRequirement already satisfied: tensorflow-io-gcs-filesystem>=0.23.1 in /usr/local/lib/python3.10/dist-packages (from tensorflow==2.8.0) (0.32.0)\n",
            "Requirement already satisfied: grpcio<2.0,>=1.24.3 in /usr/local/lib/python3.10/dist-packages (from tensorflow==2.8.0) (1.54.0)\n",
            "Collecting coloredlogs (from onnxruntime==1.15.0)\n",
            "  Downloading coloredlogs-15.0.1-py2.py3-none-any.whl (46 kB)\n",
            "\u001b[2K     \u001b[90m━━━━━━━━━━━━━━━━━━━━━━━━━━━━━━━━━━━━━━━━\u001b[0m \u001b[32m46.0/46.0 kB\u001b[0m \u001b[31m5.9 MB/s\u001b[0m eta \u001b[36m0:00:00\u001b[0m\n",
            "\u001b[?25hRequirement already satisfied: packaging in /usr/local/lib/python3.10/dist-packages (from onnxruntime==1.15.0) (23.1)\n",
            "Requirement already satisfied: sympy in /usr/local/lib/python3.10/dist-packages (from onnxruntime==1.15.0) (1.11.1)\n",
            "Requirement already satisfied: wheel<1.0,>=0.23.0 in /usr/local/lib/python3.10/dist-packages (from astunparse>=1.6.0->tensorflow==2.8.0) (0.40.0)\n",
            "Requirement already satisfied: google-auth<3,>=1.6.3 in /usr/local/lib/python3.10/dist-packages (from tensorboard<2.9,>=2.8->tensorflow==2.8.0) (2.17.3)\n",
            "Collecting google-auth-oauthlib<0.5,>=0.4.1 (from tensorboard<2.9,>=2.8->tensorflow==2.8.0)\n",
            "  Downloading google_auth_oauthlib-0.4.6-py2.py3-none-any.whl (18 kB)\n",
            "Requirement already satisfied: markdown>=2.6.8 in /usr/local/lib/python3.10/dist-packages (from tensorboard<2.9,>=2.8->tensorflow==2.8.0) (3.4.3)\n",
            "Requirement already satisfied: requests<3,>=2.21.0 in /usr/local/lib/python3.10/dist-packages (from tensorboard<2.9,>=2.8->tensorflow==2.8.0) (2.27.1)\n",
            "Collecting tensorboard-data-server<0.7.0,>=0.6.0 (from tensorboard<2.9,>=2.8->tensorflow==2.8.0)\n",
            "  Downloading tensorboard_data_server-0.6.1-py3-none-manylinux2010_x86_64.whl (4.9 MB)\n",
            "\u001b[2K     \u001b[90m━━━━━━━━━━━━━━━━━━━━━━━━━━━━━━━━━━━━━━━━\u001b[0m \u001b[32m4.9/4.9 MB\u001b[0m \u001b[31m57.2 MB/s\u001b[0m eta \u001b[36m0:00:00\u001b[0m\n",
            "\u001b[?25hRequirement already satisfied: tensorboard-plugin-wit>=1.6.0 in /usr/local/lib/python3.10/dist-packages (from tensorboard<2.9,>=2.8->tensorflow==2.8.0) (1.8.1)\n",
            "Requirement already satisfied: werkzeug>=0.11.15 in /usr/local/lib/python3.10/dist-packages (from tensorboard<2.9,>=2.8->tensorflow==2.8.0) (2.3.0)\n",
            "Collecting humanfriendly>=9.1 (from coloredlogs->onnxruntime==1.15.0)\n",
            "  Downloading humanfriendly-10.0-py2.py3-none-any.whl (86 kB)\n",
            "\u001b[2K     \u001b[90m━━━━━━━━━━━━━━━━━━━━━━━━━━━━━━━━━━━━━━━━\u001b[0m \u001b[32m86.8/86.8 kB\u001b[0m \u001b[31m12.2 MB/s\u001b[0m eta \u001b[36m0:00:00\u001b[0m\n",
            "\u001b[?25hRequirement already satisfied: mpmath>=0.19 in /usr/local/lib/python3.10/dist-packages (from sympy->onnxruntime==1.15.0) (1.3.0)\n",
            "Requirement already satisfied: cachetools<6.0,>=2.0.0 in /usr/local/lib/python3.10/dist-packages (from google-auth<3,>=1.6.3->tensorboard<2.9,>=2.8->tensorflow==2.8.0) (5.3.0)\n",
            "Requirement already satisfied: pyasn1-modules>=0.2.1 in /usr/local/lib/python3.10/dist-packages (from google-auth<3,>=1.6.3->tensorboard<2.9,>=2.8->tensorflow==2.8.0) (0.3.0)\n",
            "Requirement already satisfied: rsa<5,>=3.1.4 in /usr/local/lib/python3.10/dist-packages (from google-auth<3,>=1.6.3->tensorboard<2.9,>=2.8->tensorflow==2.8.0) (4.9)\n",
            "Requirement already satisfied: requests-oauthlib>=0.7.0 in /usr/local/lib/python3.10/dist-packages (from google-auth-oauthlib<0.5,>=0.4.1->tensorboard<2.9,>=2.8->tensorflow==2.8.0) (1.3.1)\n",
            "Requirement already satisfied: urllib3<1.27,>=1.21.1 in /usr/local/lib/python3.10/dist-packages (from requests<3,>=2.21.0->tensorboard<2.9,>=2.8->tensorflow==2.8.0) (1.26.15)\n",
            "Requirement already satisfied: certifi>=2017.4.17 in /usr/local/lib/python3.10/dist-packages (from requests<3,>=2.21.0->tensorboard<2.9,>=2.8->tensorflow==2.8.0) (2022.12.7)\n",
            "Requirement already satisfied: charset-normalizer~=2.0.0 in /usr/local/lib/python3.10/dist-packages (from requests<3,>=2.21.0->tensorboard<2.9,>=2.8->tensorflow==2.8.0) (2.0.12)\n",
            "Requirement already satisfied: idna<4,>=2.5 in /usr/local/lib/python3.10/dist-packages (from requests<3,>=2.21.0->tensorboard<2.9,>=2.8->tensorflow==2.8.0) (3.4)\n",
            "Requirement already satisfied: MarkupSafe>=2.1.1 in /usr/local/lib/python3.10/dist-packages (from werkzeug>=0.11.15->tensorboard<2.9,>=2.8->tensorflow==2.8.0) (2.1.2)\n",
            "Requirement already satisfied: pyasn1<0.6.0,>=0.4.6 in /usr/local/lib/python3.10/dist-packages (from pyasn1-modules>=0.2.1->google-auth<3,>=1.6.3->tensorboard<2.9,>=2.8->tensorflow==2.8.0) (0.5.0)\n",
            "Requirement already satisfied: oauthlib>=3.0.0 in /usr/local/lib/python3.10/dist-packages (from requests-oauthlib>=0.7.0->google-auth-oauthlib<0.5,>=0.4.1->tensorboard<2.9,>=2.8->tensorflow==2.8.0) (3.2.2)\n",
            "Installing collected packages: tf-estimator-nightly, keras, tensorflow-hub, tensorboard-data-server, onnx, keras-preprocessing, humanfriendly, coloredlogs, onnxruntime, google-auth-oauthlib, tensorboard, tensorflow\n",
            "  Attempting uninstall: keras\n",
            "    Found existing installation: keras 2.12.0\n",
            "    Uninstalling keras-2.12.0:\n",
            "      Successfully uninstalled keras-2.12.0\n",
            "  Attempting uninstall: tensorflow-hub\n",
            "    Found existing installation: tensorflow-hub 0.13.0\n",
            "    Uninstalling tensorflow-hub-0.13.0:\n",
            "      Successfully uninstalled tensorflow-hub-0.13.0\n",
            "  Attempting uninstall: tensorboard-data-server\n",
            "    Found existing installation: tensorboard-data-server 0.7.0\n",
            "    Uninstalling tensorboard-data-server-0.7.0:\n",
            "      Successfully uninstalled tensorboard-data-server-0.7.0\n",
            "  Attempting uninstall: google-auth-oauthlib\n",
            "    Found existing installation: google-auth-oauthlib 1.0.0\n",
            "    Uninstalling google-auth-oauthlib-1.0.0:\n",
            "      Successfully uninstalled google-auth-oauthlib-1.0.0\n",
            "  Attempting uninstall: tensorboard\n",
            "    Found existing installation: tensorboard 2.12.2\n",
            "    Uninstalling tensorboard-2.12.2:\n",
            "      Successfully uninstalled tensorboard-2.12.2\n",
            "  Attempting uninstall: tensorflow\n",
            "    Found existing installation: tensorflow 2.12.0\n",
            "    Uninstalling tensorflow-2.12.0:\n",
            "      Successfully uninstalled tensorflow-2.12.0\n",
            "Successfully installed coloredlogs-15.0.1 google-auth-oauthlib-0.4.6 humanfriendly-10.0 keras-2.8.0 keras-preprocessing-1.1.2 onnx-1.14.0 onnxruntime-1.15.0 tensorboard-2.8.0 tensorboard-data-server-0.6.1 tensorflow-2.8.0 tensorflow-hub-0.12.0 tf-estimator-nightly-2.8.0.dev2021122109\n",
            "Looking in indexes: https://pypi.org/simple, https://us-python.pkg.dev/colab-wheels/public/simple/\n",
            "Requirement already satisfied: gdown in /usr/local/lib/python3.10/dist-packages (4.6.6)\n",
            "Collecting gdown\n",
            "  Downloading gdown-4.7.1-py3-none-any.whl (15 kB)\n",
            "Requirement already satisfied: filelock in /usr/local/lib/python3.10/dist-packages (from gdown) (3.12.0)\n",
            "Requirement already satisfied: requests[socks] in /usr/local/lib/python3.10/dist-packages (from gdown) (2.27.1)\n",
            "Requirement already satisfied: six in /usr/local/lib/python3.10/dist-packages (from gdown) (1.16.0)\n",
            "Requirement already satisfied: tqdm in /usr/local/lib/python3.10/dist-packages (from gdown) (4.65.0)\n",
            "Requirement already satisfied: beautifulsoup4 in /usr/local/lib/python3.10/dist-packages (from gdown) (4.11.2)\n",
            "Requirement already satisfied: soupsieve>1.2 in /usr/local/lib/python3.10/dist-packages (from beautifulsoup4->gdown) (2.4.1)\n",
            "Requirement already satisfied: urllib3<1.27,>=1.21.1 in /usr/local/lib/python3.10/dist-packages (from requests[socks]->gdown) (1.26.15)\n",
            "Requirement already satisfied: certifi>=2017.4.17 in /usr/local/lib/python3.10/dist-packages (from requests[socks]->gdown) (2022.12.7)\n",
            "Requirement already satisfied: charset-normalizer~=2.0.0 in /usr/local/lib/python3.10/dist-packages (from requests[socks]->gdown) (2.0.12)\n",
            "Requirement already satisfied: idna<4,>=2.5 in /usr/local/lib/python3.10/dist-packages (from requests[socks]->gdown) (3.4)\n",
            "Requirement already satisfied: PySocks!=1.5.7,>=1.5.6 in /usr/local/lib/python3.10/dist-packages (from requests[socks]->gdown) (1.7.1)\n",
            "Installing collected packages: gdown\n",
            "  Attempting uninstall: gdown\n",
            "    Found existing installation: gdown 4.6.6\n",
            "    Uninstalling gdown-4.6.6:\n",
            "      Successfully uninstalled gdown-4.6.6\n",
            "Successfully installed gdown-4.7.1\n"
          ]
        }
      ],
      "source": [
        "!pip install tensorflow==2.8.0 tensorflow-hub==0.12.0 onnxruntime==1.15.0 onnx==1.14.0\n",
        "!pip install --upgrade gdown"
      ]
    },
    {
      "cell_type": "code",
      "source": [
        "# DIS\n",
        "! git clone https://github.com/xuebinqin/DIS\n",
        "%cd /content/DIS/IS-Net\n",
        "\n",
        "!mkdir saved_models"
      ],
      "metadata": {
        "colab": {
          "base_uri": "https://localhost:8080/"
        },
        "id": "AF9hHIttx-Nl",
        "outputId": "b65a2376-69a0-43be-97ad-0a1f65cc6d10"
      },
      "execution_count": 9,
      "outputs": [
        {
          "output_type": "stream",
          "name": "stdout",
          "text": [
            "Cloning into 'DIS'...\n",
            "remote: Enumerating objects: 328, done.\u001b[K\n",
            "remote: Counting objects: 100% (75/75), done.\u001b[K\n",
            "remote: Compressing objects: 100% (20/20), done.\u001b[K\n",
            "remote: Total 328 (delta 64), reused 56 (delta 55), pack-reused 253\u001b[K\n",
            "Receiving objects: 100% (328/328), 49.59 MiB | 23.02 MiB/s, done.\n",
            "Resolving deltas: 100% (153/153), done.\n",
            "/content/DIS/IS-Net\n"
          ]
        }
      ]
    },
    {
      "cell_type": "code",
      "source": [
        "if remove_back=='ISNet':\n",
        "    import cv2\n",
        "    from data_loader_cache import normalize, im_reader, im_preprocess \n",
        "    import gdown\n",
        "    from google.colab.patches import cv2_imshow\n",
        "    from io import BytesIO\n",
        "    import matplotlib.pyplot as plt\n",
        "    from models import *\n",
        "    import numpy as np\n",
        "    import onnxruntime\n",
        "    from PIL import Image\n",
        "    import requests\n",
        "    import torch\n",
        "    from torch.autograd import Variable\n",
        "    import torch.nn.functional as F\n",
        "    from torchvision import transforms\n",
        "\n",
        "    os.chdir('/content/DIS/IS-Net')\n",
        "    device = 'cpu'\n",
        "    gdown.download(\n",
        "        'https://drive.google.com/uc?id=1KyMpRjewZdyYfxHPYcd-ZbanIXtin0Sn', \n",
        "        './saved_models/isnet.pth', \n",
        "        quiet=False,\n",
        "    )\n",
        "    gdown.download(\n",
        "        'https://drive.google.com/uc?id=1nV57qKuy--d5u1yvkng9aXW1KS4sOpOi', \n",
        "        './saved_models/isnet-general-use.pth', \n",
        "        quiet=False,\n",
        "    )\n",
        "\n",
        "\n",
        "    class GOSNormalize(object):\n",
        "        '''\n",
        "        Normalize the Image using torch.transforms\n",
        "        '''\n",
        "        def __init__(self, mean=[0.485,0.456,0.406], std=[0.229,0.224,0.225]):\n",
        "            self.mean = mean\n",
        "            self.std = std\n",
        "\n",
        "        def __call__(self,image):\n",
        "            image = normalize(image,self.mean,self.std)\n",
        "            return image\n",
        "    \n",
        "    def build_model(hypar,device):\n",
        "        net = hypar[\"model\"]#GOSNETINC(3,1)\n",
        "\n",
        "        # convert to half precision\n",
        "        if(hypar[\"model_digit\"]==\"half\"):\n",
        "            net.half()\n",
        "            for layer in net.modules():\n",
        "                if isinstance(layer, nn.BatchNorm2d):\n",
        "                    layer.float()\n",
        "\n",
        "        net.to(device)\n",
        "\n",
        "        if(hypar[\"restore_model\"]!=\"\"):\n",
        "            net.load_state_dict(torch.load(hypar[\"model_path\"]+\"/\"+hypar[\"restore_model\"],map_location=device))\n",
        "            net.to(device)\n",
        "        net.eval()  \n",
        "        return net\n",
        "\n",
        "    transform =  transforms.Compose([GOSNormalize([0.5,0.5,0.5],[1.0,1.0,1.0])])\n",
        "\n",
        "    # gen param\n",
        "    hypar = {} # paramters for inferencing\n",
        "\n",
        "    hypar[\"model_path\"] =\"./saved_models\" ## load trained weights from this path\n",
        "    hypar[\"restore_model\"] = \"isnet-general-use.pth\"  # \"isnet.pth\" ## name of the to-be-loaded weights\n",
        "    hypar[\"interm_sup\"] = False ## indicate if activate intermediate feature supervision\n",
        "\n",
        "    ##  choose floating point accuracy --\n",
        "    hypar[\"model_digit\"] = \"full\" ## indicates \"half\" or \"full\" accuracy of float number\n",
        "    hypar[\"seed\"] = 0\n",
        "\n",
        "    hypar[\"cache_size\"] = [1024, 1024] ## cached input spatial resolution, can be configured into different size\n",
        "\n",
        "    ## data augmentation parameters ---\n",
        "    hypar[\"input_size\"] = [1024, 1024] ## mdoel input spatial size, usually use the same value hypar[\"cache_size\"], which means we don't further resize the images\n",
        "    hypar[\"crop_size\"] = [1024, 1024] ## random crop size from the input, it is usually set as smaller than hypar[\"cache_size\"], e.g., [920,920] for data augmentation\n",
        "\n",
        "    hypar[\"model\"] = ISNetDIS()\n",
        "\n",
        "    net = build_model(hypar, device)\n",
        "\n",
        "\n",
        "\n",
        "    def load_image(im_path, hypar):\n",
        "        if im_path.startswith(\"http\"):\n",
        "            im_path = BytesIO(requests.get(im_path).content)\n",
        "\n",
        "        im = im_reader(im_path)\n",
        "        im, im_shp = im_preprocess(im, hypar[\"cache_size\"])\n",
        "        im = torch.divide(im,255.0)\n",
        "        shape = torch.from_numpy(np.array(im_shp))\n",
        "        return transform(im).unsqueeze(0), shape.unsqueeze(0) # make a batch of image, shape\n",
        "\n",
        "\n",
        "\n",
        "\n",
        "        \n",
        "    def predict(net,  inputs_val, shapes_val, hypar, device):\n",
        "        '''\n",
        "        Given an Image, predict the mask\n",
        "        '''\n",
        "        net.eval()\n",
        "\n",
        "        if(hypar[\"model_digit\"]==\"full\"):\n",
        "            inputs_val = inputs_val.type(torch.FloatTensor)\n",
        "        else:\n",
        "            inputs_val = inputs_val.type(torch.HalfTensor)\n",
        "\n",
        "\n",
        "        inputs_val_v = Variable(inputs_val, requires_grad=False).to(device) # wrap inputs in Variable\n",
        "\n",
        "        ds_val = net(inputs_val_v)[0] # list of 6 results\n",
        "\n",
        "        pred_val = ds_val[0][0,:,:,:] # B x 1 x H x W    # we want the first one which is the most accurate prediction\n",
        "\n",
        "        ## recover the prediction spatial size to the orignal image size\n",
        "        pred_val = torch.squeeze(F.upsample(torch.unsqueeze(pred_val,0),(shapes_val[0][0],shapes_val[0][1]),mode='bilinear'))\n",
        "\n",
        "        ma = torch.max(pred_val)\n",
        "        mi = torch.min(pred_val)\n",
        "        pred_val = (pred_val-mi)/(ma-mi) # max = 1\n",
        "\n",
        "        if device == 'cuda': torch.cuda.empty_cache()\n",
        "        return (pred_val.detach().cpu().numpy()*255).astype(np.uint8) # it is the mask we need\n",
        "\n",
        "\n",
        "    # ONNX convert\n",
        "    def convert_to_onnx(net, file_name='output.onnx', input_shape=(512, 512), device='cpu'):\n",
        "        input = torch.randn(1, 3, input_shape[0], input_shape[1]).to(device)\n",
        "\n",
        "        input_layer_names = ['input_image']\n",
        "        output_layer_names = ['output_image']\n",
        "\n",
        "        torch.onnx.export(\n",
        "            net, \n",
        "            input, \n",
        "            file_name, \n",
        "            verbose=True,\n",
        "            opset_version=13,\n",
        "            input_names=input_layer_names,\n",
        "            output_names=output_layer_names,\n",
        "        )\n",
        "\n",
        "    convert_to_onnx(net, file_name='isnet-general-use.onnx', input_shape=(1024, 1024))\n",
        "\n",
        "\n",
        "    # inference\n",
        "    def run_inference(onnx_session, image, score_th=None):\n",
        "        # ONNX Input Size\n",
        "        input_size = onnx_session.get_inputs()[0].shape\n",
        "        input_width = input_size[3]\n",
        "        input_height = input_size[2]\n",
        "\n",
        "        # Pre process:Resize, BGR->RGB, float32 cast\n",
        "        input_image = cv2.resize(image, dsize=(input_width, input_height))\n",
        "        input_image = cv2.cvtColor(input_image, cv2.COLOR_BGR2RGB)\n",
        "        mean = [0.5, 0.5, 0.5]\n",
        "        std = [1.0, 1.0, 1.0]\n",
        "        input_image = (input_image / 255.0 - mean) / std\n",
        "        input_image = input_image.transpose(2, 0, 1)\n",
        "        input_image = np.expand_dims(input_image, axis=0)\n",
        "        input_image = input_image.astype('float32')\n",
        "\n",
        "        # Inference\n",
        "        input_name = onnx_session.get_inputs()[0].name\n",
        "        output_name = onnx_session.get_outputs()[0].name\n",
        "        result = onnx_session.run([output_name], {input_name: input_image})\n",
        "\n",
        "        # Post process:squeeze, Sigmoid, Normarize, uint8 cast\n",
        "        mask = np.squeeze(result[0])\n",
        "        min_value = np.min(mask)\n",
        "        max_value = np.max(mask)\n",
        "        mask = (mask - min_value) / (max_value - min_value)\n",
        "        if score_th is not None:\n",
        "            mask = np.where(mask < score_th, 0, 1)\n",
        "        mask *= 255\n",
        "        mask = mask.astype('uint8')\n",
        "\n",
        "        return mask"
      ],
      "metadata": {
        "id": "lKXKHbY8GxXG",
        "outputId": "fa80e151-cb6f-4ae6-d1cf-4e899106c399",
        "colab": {
          "base_uri": "https://localhost:8080/"
        }
      },
      "execution_count": 10,
      "outputs": [
        {
          "output_type": "stream",
          "name": "stderr",
          "text": [
            "/usr/local/lib/python3.10/dist-packages/torch/nn/_reduction.py:42: UserWarning: size_average and reduce args will be deprecated, please use reduction='mean' instead.\n",
            "  warnings.warn(warning.format(ret))\n",
            "Downloading...\n",
            "From (uriginal): https://drive.google.com/uc?id=1KyMpRjewZdyYfxHPYcd-ZbanIXtin0Sn\n",
            "From (redirected): https://drive.google.com/uc?id=1KyMpRjewZdyYfxHPYcd-ZbanIXtin0Sn&confirm=t&uuid=4a6276d9-44ab-4bf3-bb25-f4b558a3884d\n",
            "To: /content/DIS/IS-Net/saved_models/isnet.pth\n",
            "100%|██████████| 177M/177M [00:01<00:00, 140MB/s]\n",
            "Downloading...\n",
            "From (uriginal): https://drive.google.com/uc?id=1nV57qKuy--d5u1yvkng9aXW1KS4sOpOi\n",
            "From (redirected): https://drive.google.com/uc?id=1nV57qKuy--d5u1yvkng9aXW1KS4sOpOi&confirm=t&uuid=24188bc1-5638-473d-a70a-1b1a241a4799\n",
            "To: /content/DIS/IS-Net/saved_models/isnet-general-use.pth\n",
            "100%|██████████| 177M/177M [00:01<00:00, 160MB/s]\n",
            "/usr/local/lib/python3.10/dist-packages/torch/nn/functional.py:3737: UserWarning: nn.functional.upsample is deprecated. Use nn.functional.interpolate instead.\n",
            "  warnings.warn(\"nn.functional.upsample is deprecated. Use nn.functional.interpolate instead.\")\n"
          ]
        },
        {
          "output_type": "stream",
          "name": "stdout",
          "text": [
            "============= Diagnostic Run torch.onnx.export version 2.0.1+cu118 =============\n",
            "verbose: False, log level: Level.ERROR\n",
            "======================= 0 NONE 0 NOTE 0 WARNING 0 ERROR ========================\n",
            "\n"
          ]
        }
      ]
    },
    {
      "cell_type": "code",
      "source": [
        "if remove_back=='ISNet':\n",
        "    os.chdir('/content/DIS/IS-Net')\n",
        "    image = cv2.imread('/content/upload.jpg')\n",
        "\n",
        "    onnx_session = onnxruntime.InferenceSession(\n",
        "        'isnet-general-use.onnx',\n",
        "        providers=[\n",
        "            'CUDAExecutionProvider',\n",
        "            'CPUExecutionProvider',\n",
        "        ],\n",
        "    )\n",
        "    mask = run_inference(\n",
        "        onnx_session,\n",
        "        image,\n",
        "        score_th=0.5,\n",
        "    )\n",
        "\n",
        "    mask = cv2.resize(\n",
        "        mask,\n",
        "        dsize=(image.shape[1], image.shape[0]),\n",
        "    )\n",
        "\n",
        "    overlay_image = np.zeros(image.shape, dtype=np.uint8)\n",
        "    overlay_image[:] = (255, 255, 255)\n",
        "    data = np.stack((mask, ) * 3, axis=-1).astype('uint8')\n",
        "    mask_image = np.where(data, image, overlay_image)\n",
        "\n",
        "    # 表示\n",
        "    cv2_imshow(data)\n",
        "    data = cv2.cvtColor(data, cv2.COLOR_BGR2GRAY)"
      ],
      "metadata": {
        "id": "WIr6RulmGszL",
        "outputId": "49388952-010b-460a-b59b-40183dd14f34",
        "colab": {
          "base_uri": "https://localhost:8080/",
          "height": 792
        }
      },
      "execution_count": 11,
      "outputs": [
        {
          "output_type": "stream",
          "name": "stderr",
          "text": [
            "/usr/local/lib/python3.10/dist-packages/onnxruntime/capi/onnxruntime_inference_collection.py:65: UserWarning: Specified provider 'CUDAExecutionProvider' is not in available provider names.Available providers: 'CPUExecutionProvider'\n",
            "  warnings.warn(\n"
          ]
        },
        {
          "output_type": "display_data",
          "data": {
            "text/plain": [
              "<PIL.Image.Image image mode=RGB size=550x720 at 0x7FED08301150>"
            ],
            "image/png": "[encoded data removed]"
          },
          "metadata": {}
        }
      ]
    },
    {
      "cell_type": "code",
      "execution_count": 12,
      "metadata": {
        "id": "bxBmGrkbCNoT"
      },
      "outputs": [],
      "source": [
        "if remove_back=='Midas':\n",
        "    import cv2\n",
        "    import numpy as np\n",
        "\n",
        "    import matplotlib.pyplot as plt\n",
        "    import tensorflow_hub as hub\n",
        "    import tensorflow as tf\n",
        "\n",
        "    module = hub.load(\"https://tfhub.dev/intel/midas/v2_1_small/1\", tags=['serve'])\n",
        "    model = module.signatures['serving_default']\n",
        "\n",
        "\n",
        "    # 画像読み込み\n",
        "    image = cv2.imread('/content/upload.jpg')\n",
        "\n",
        "    # リサイズ\n",
        "    resize_image = cv2.resize(image, (256, 256))\n",
        "\n",
        "    # 正規化\n",
        "    resize_image = cv2.cvtColor(resize_image, cv2.COLOR_BGR2RGB) / 255.0\n",
        "\n",
        "    # 形状変更\n",
        "    resize_image = resize_image.transpose(2, 0, 1)\n",
        "    resize_image = resize_image.reshape(1, 3, 256, 256)\n",
        "\n",
        "    # tensor形式へ変換\n",
        "    tensor = tf.convert_to_tensor(resize_image, dtype=tf.float32)\n",
        "\n",
        "    result = model(tensor)\n",
        "    predict_result = result['default'].numpy()\n",
        "    predict_result = np.squeeze(predict_result)\n",
        "\n",
        "    # オリジナル画像のサイズにリサイズ\n",
        "    predict_result = cv2.resize(predict_result, (image.shape[1], image.shape[0]))\n",
        "\n",
        "    # 最大値が255になるよう変換\n",
        "    depth_max = predict_result.max()\n",
        "    data = ((predict_result / depth_max) * 255).astype(np.uint8)\n",
        "\n",
        "    # カラーマップ画像へ変換\n",
        "    color_map = cv2.applyColorMap(data, cv2.COLORMAP_TURBO)\n",
        "\n",
        "    # 表示\n",
        "    plt.imshow(color_map)"
      ]
    },
    {
      "cell_type": "markdown",
      "metadata": {
        "id": "tpEmhlY4Er2N"
      },
      "source": [
        "線画化\n",
        "\n",
        "必ず実行"
      ]
    },
    {
      "cell_type": "code",
      "execution_count": 13,
      "metadata": {
        "id": "SZ2-AmlMe7Kd"
      },
      "outputs": [],
      "source": [
        "class image_utils:\n",
        "    def median_filter(self, src, ksize):\n",
        "        d = int((ksize-1)/2)\n",
        "        h, w = src.shape[0], src.shape[1]\n",
        "        dst = src.copy()\n",
        "\n",
        "        for y in range(d, h - d):\n",
        "            for x in range(d, w - d):\n",
        "                dst[y][x] = np.median(src[y-d:y+d+1, x-d:x+d+1])\n",
        "        return dst\n",
        "\n",
        "    def export_edges_anime(self, image_raw: np.ndarray, depth_data: np.ndarray, median_ksize: int = 3, morph_g_ksize: int = 3, depth_threshold: int = 150, canny_threshold: int = 150):\n",
        "        mask = depth_data > depth_threshold\n",
        "        # maskを二値化\n",
        "        mask = mask.astype(np.uint8) * 255\n",
        "        # imageとmaskの合成\n",
        "        result = cv2.bitwise_and(image_raw, image_raw, mask=mask)\n",
        "\n",
        "        return self.anime2line(result, median_ksize=median_ksize, morph_g_ksize=morph_g_ksize, threshold=canny_threshold)\n",
        "\n",
        "    def anime2line(self, image_raw: np.ndarray, median_ksize: int = 3, morph_g_ksize: int = 3, threshold: int = 150):\n",
        "        edges = cv2.cvtColor(image_raw, cv2.COLOR_BGR2GRAY)\n",
        "\n",
        "        # Canny輪郭検出\n",
        "        edges = cv2.Canny(edges, threshold, threshold)\n",
        "\n",
        "        # MorphologyEx\n",
        "        if morph_g_ksize == 1:\n",
        "            pass\n",
        "        else:\n",
        "            kernel_giant = np.ones((morph_g_ksize, morph_g_ksize), np.uint8)\n",
        "            edges = cv2.morphologyEx(edges, cv2.MORPH_GRADIENT, kernel_giant)\n",
        "\n",
        "        # 色の反転\n",
        "        edges = cv2.bitwise_not(edges)\n",
        "        edges = edges.astype(np.uint8) * 255 * 255\n",
        "        edges = cv2.cvtColor(edges, cv2.COLOR_GRAY2BGR)\n",
        "\n",
        "        # メディアンフィルタ\n",
        "        if median_ksize == 1:\n",
        "            pass\n",
        "        else:\n",
        "            edges = self.median_filter(edges, ksize=median_ksize)\n",
        "\n",
        "        ret, output = cv2.threshold(edges, 200, 255, cv2.THRESH_BINARY)\n",
        "        return edges\n",
        "\n",
        "    # 白を透明にして色付きを半透明の白にする\n",
        "    def white2transparent(self, input_image: np.ndarray, os_type: str = 'Ubuntu'):\n",
        "        if os_type == 'Ubuntu':\n",
        "            image_png = cv2.cvtColor(input_image, cv2.COLOR_RGB2RGBA)\n",
        "            for i in range(image_png.shape[0]):\n",
        "                for j in range(image_png.shape[1]):\n",
        "                    if image_png[i][j][0] == 255 and image_png[i][j][1] == 255 and image_png[i][j][2] == 255:\n",
        "                        image_png[i][j][3] = 0\n",
        "                    else:\n",
        "                        image_png[i][j][0] = 255\n",
        "                        image_png[i][j][1] = 200\n",
        "                        image_png[i][j][2] = 255\n",
        "                        image_png[i][j][3] = 200\n",
        "        elif os_type == 'Windows':\n",
        "            image_png = cv2.cvtColor(input_image, cv2.COLOR_RGB2RGBA)\n",
        "            for i in range(image_png.shape[0]):\n",
        "                for j in range(image_png.shape[1]):\n",
        "                    if image_png[i][j][0] == 255 and image_png[i][j][1] == 255 and image_png[i][j][2] == 255:\n",
        "                        image_png[i][j][3] = 0\n",
        "                    else:\n",
        "                        image_png[i][j][0] = 200\n",
        "                        image_png[i][j][1] = 255\n",
        "                        image_png[i][j][2] = 255\n",
        "                        image_png[i][j][3] = 200\n",
        "        elif os_type == 'Mac-White':\n",
        "            image_png = cv2.cvtColor(input_image, cv2.COLOR_RGB2RGBA)\n",
        "            for i in range(image_png.shape[0]):\n",
        "                for j in range(image_png.shape[1]):\n",
        "                    if image_png[i][j][0] == 255 and image_png[i][j][1] == 255 and image_png[i][j][2] == 255:\n",
        "                        image_png[i][j][3] = 0\n",
        "                    else:\n",
        "                        image_png[i][j][0] = 200\n",
        "                        image_png[i][j][1] = 200\n",
        "                        image_png[i][j][2] = 200\n",
        "                        image_png[i][j][3] = 200\n",
        "        elif os_type == 'Mac-Gray':\n",
        "            image_png = cv2.cvtColor(input_image, cv2.COLOR_RGB2RGBA)\n",
        "            for i in range(image_png.shape[0]):\n",
        "                for j in range(image_png.shape[1]):\n",
        "                    if image_png[i][j][0] == 255 and image_png[i][j][1] == 255 and image_png[i][j][2] == 255:\n",
        "                        image_png[i][j][3] = 0\n",
        "                    else:\n",
        "                        image_png[i][j][0] = 70\n",
        "                        image_png[i][j][1] = 70\n",
        "                        image_png[i][j][2] = 70\n",
        "                        image_png[i][j][3] = 200\n",
        "        else:\n",
        "            print(\"cannot detect wallpaper OS\")\n",
        "        return image_png"
      ]
    },
    {
      "cell_type": "markdown",
      "metadata": {
        "id": "5alWTXyxE4io"
      },
      "source": [
        "線画化２"
      ]
    },
    {
      "cell_type": "markdown",
      "metadata": {
        "id": "2ambD4SrfxEs"
      },
      "source": [
        "## Informative-drawings\n",
        "ファイルのダウンロード作業。スキップするほどでもないですが、ダウンロードを行わない場合はこの工程をスキップしてください。"
      ]
    },
    {
      "cell_type": "code",
      "execution_count": 14,
      "metadata": {
        "colab": {
          "base_uri": "https://localhost:8080/"
        },
        "id": "iSLLrAFuE6aE",
        "outputId": "fbbde69e-491d-42a5-a347-ec60a93ce9b3"
      },
      "outputs": [
        {
          "output_type": "stream",
          "name": "stdout",
          "text": [
            "Cloning into 'informative-drawings'...\n",
            "remote: Enumerating objects: 101, done.\u001b[K\n",
            "remote: Counting objects: 100% (28/28), done.\u001b[K\n",
            "remote: Compressing objects: 100% (17/17), done.\u001b[K\n",
            "remote: Total 101 (delta 21), reused 12 (delta 11), pack-reused 73\u001b[K\n",
            "Receiving objects: 100% (101/101), 3.86 MiB | 23.64 MiB/s, done.\n",
            "Resolving deltas: 100% (39/39), done.\n",
            "/content/DIS/IS-Net/informative-drawings\n",
            "Downloading...\n",
            "From (uriginal): https://drive.google.com/uc?id=11l5u5sb1PO5Z5YA3IoEHauVPm0k407C1\n",
            "From (redirected): https://drive.google.com/uc?id=11l5u5sb1PO5Z5YA3IoEHauVPm0k407C1&confirm=t&uuid=bee8b26b-d304-40db-bd8d-a50303b29175\n",
            "To: /content/DIS/IS-Net/informative-drawings/model.zip\n",
            "100% 47.7M/47.7M [00:00<00:00, 83.4MB/s]\n",
            "Archive:  model.zip\n",
            "   creating: checkpoints/model/\n",
            "   creating: checkpoints/model/contour_style/\n",
            "  inflating: checkpoints/model/contour_style/netG_A_latest.pth  \n",
            "   creating: checkpoints/model/opensketch_style/\n",
            "  inflating: checkpoints/model/opensketch_style/.DS_Store  \n",
            "  inflating: checkpoints/model/opensketch_style/netG_A_latest.pth  \n",
            "   creating: checkpoints/model/anime_style/\n",
            "  inflating: checkpoints/model/anime_style/netG_A_latest.pth  \n"
          ]
        }
      ],
      "source": [
        "!git clone https://github.com/carolineec/informative-drawings\n",
        "%cd informative-drawings\n",
        "\n",
        "!mkdir checkpoints\n",
        "!gdown 'https://drive.google.com/uc?id=11l5u5sb1PO5Z5YA3IoEHauVPm0k407C1'\n",
        "!unzip model.zip -d checkpoints"
      ]
    },
    {
      "cell_type": "code",
      "execution_count": 15,
      "metadata": {
        "id": "L5wMeGH-FPTV"
      },
      "outputs": [],
      "source": [
        "import torch\n",
        "from model import Generator\n",
        "\n",
        "import onnxruntime\n",
        "import cv2 as cv\n",
        "import numpy as np\n",
        "\n",
        "input_size = 512\n",
        "# ドットアクセス用の辞書クラス\n",
        "class DictDotNotation(dict): \n",
        "    def __init__(self, *args, **kwargs): \n",
        "        super().__init__(*args, **kwargs) \n",
        "        self.__dict__ = self\n",
        "# 疑似的なコマンドライン引数生成\n",
        "\n",
        "class InformativeDrawings:\n",
        "    def create_options(self) -> DictDotNotation:\n",
        "        opt = DictDotNotation()\n",
        "\n",
        "        opt.name = 'model/anime_style'\n",
        "        opt.dataroot = 'examples/test'\n",
        "        opt.checkpoints_dir = 'checkpoints'\n",
        "        opt.results_dir = 'results'\n",
        "        opt.geom_name = 'feats2Geom'\n",
        "        opt.batchSize = 1\n",
        "        opt.depthroot = ''\n",
        "        opt.input_nc = 3\n",
        "        opt.output_nc = 1\n",
        "        opt.geom_nc = 3\n",
        "        opt.every_feat = 1\n",
        "        opt.num_classes = 55\n",
        "        opt.midas = 0\n",
        "        opt.ngf = 64\n",
        "        opt.n_blocks = 3\n",
        "        opt.size = input_size\n",
        "        opt.cuda = True\n",
        "        opt.n_cpu = 8\n",
        "        opt.which_epoch = 'latest'\n",
        "        opt.aspect_ratio = 1.0\n",
        "        opt.mode = 'test'\n",
        "        opt.load_size = input_size\n",
        "        opt.crop_size = input_size\n",
        "        opt.max_dataset_size = float(\"inf\")\n",
        "        opt.preprocess = 'resize_and_crop'\n",
        "        opt.no_flip = False\n",
        "        opt.norm = 'instance'\n",
        "        opt.predict_depth = 0\n",
        "        opt.save_input = 0\n",
        "        opt.reconstruct = 0\n",
        "        opt.how_many = 100\n",
        "        return opt\n",
        "\n",
        "    def convert_to_onnx(self, net, file_name='output.onnx', input_shape=(512, 512), device='cpu'):\n",
        "        input = torch.randn(1, 3, input_shape[0], input_shape[1]).to(device)\n",
        "\n",
        "        input_layer_names = ['input_image']\n",
        "        output_layer_names = ['output_image']\n",
        "\n",
        "        torch.onnx.export(\n",
        "            net, \n",
        "            input, \n",
        "            file_name, \n",
        "            verbose=True,\n",
        "            opset_version=11,\n",
        "            input_names=input_layer_names,\n",
        "            output_names=output_layer_names,\n",
        "        )\n",
        "    \n",
        "    def export_edges_anime(self, image_raw: np.ndarray, depth_data: np.ndarray, morph_g_ksize: int = 3, depth_threshold: int = 150) -> np.ndarray:\n",
        "        mask = depth_data > depth_threshold\n",
        "        # maskを二値化\n",
        "        mask = mask.astype(np.uint8) * 255\n",
        "        # imageとmaskの合成\n",
        "        result = cv2.bitwise_and(image_raw, image_raw, mask=mask)\n",
        "\n",
        "        return self.generate(result, morph_g_ksize)\n",
        "\n",
        "    def generate(self, input_image, morph_g_ksize) -> np.ndarray:\n",
        "\n",
        "        # ネットワーク生成\n",
        "        opt = self.create_options()\n",
        "        net_G = Generator(opt.input_nc, opt.output_nc, opt.n_blocks)\n",
        "\n",
        "        # 重みをロード\n",
        "        net_G.load_state_dict(torch.load(os.path.join(opt.checkpoints_dir, opt.name, 'netG_A_%s.pth' % opt.which_epoch)))\n",
        "        device = 'cpu'\n",
        "        net_G.eval().to(device)\n",
        "\n",
        "        print('Loaded：', os.path.join(opt.checkpoints_dir, opt.name, 'netG_A_%s.pth' % opt.which_epoch))\n",
        "\n",
        "        self.convert_to_onnx(net_G, 'anime_style_512x512.onnx', (input_size, input_size), device)\n",
        "\n",
        "        # ONNXモデルロード\n",
        "        onnx_session = onnxruntime.InferenceSession(\n",
        "            'anime_style_512x512.onnx',\n",
        "            providers=['CUDAExecutionProvider', 'CPUExecutionProvider'],\n",
        "        )\n",
        "\n",
        "        input_name = onnx_session.get_inputs()[0].name\n",
        "        output_name = onnx_session.get_outputs()[0].name\n",
        "\n",
        "\n",
        "        # 前処理 (input is image)\n",
        "        image_data = cv.resize(input_image, dsize=(input_size, input_size))\n",
        "        x = cv.cvtColor(image_data, cv.COLOR_BGR2RGB)\n",
        "\n",
        "        x = np.array(x, dtype=np.float32)\n",
        "        x = x.transpose(2, 0, 1)\n",
        "        x = x.reshape(-1, 3, input_size, input_size)\n",
        "\n",
        "        # 推論\n",
        "        onnx_result = onnx_session.run([output_name], {input_name: x})\n",
        "\n",
        "        # 後処理\n",
        "        onnx_result = np.array(onnx_result).squeeze()\n",
        "        onnx_result = onnx_result * 255\n",
        "        onnx_result = onnx_result.astype(np.uint8)\n",
        "\n",
        "        \n",
        "        ret, output = cv2.threshold(onnx_result, 200, 255, cv2.THRESH_BINARY)\n",
        "\n",
        "        # kernel_giant = np.ones((morph_g_ksize, morph_g_ksize), np.uint8)\n",
        "        # output = cv2.morphologyEx(output, cv2.MORPH_GRADIENT, kernel_giant)\n",
        "\n",
        "        output = cv2.cvtColor(output, cv2.COLOR_GRAY2BGR)\n",
        "        output = cv2.resize(output, (image.shape[1],image.shape[0]))\n",
        "        return output"
      ]
    },
    {
      "cell_type": "code",
      "execution_count": 16,
      "metadata": {
        "colab": {
          "base_uri": "https://localhost:8080/"
        },
        "id": "akicp1XSYg7C",
        "outputId": "b1ec209b-d2d2-4b8e-b23a-3ddb3283fe81"
      },
      "outputs": [
        {
          "output_type": "stream",
          "name": "stdout",
          "text": [
            "using informative drawings...\n",
            "Loaded： checkpoints/model/anime_style/netG_A_latest.pth\n"
          ]
        },
        {
          "output_type": "stream",
          "name": "stderr",
          "text": [
            "/usr/local/lib/python3.10/dist-packages/torch/onnx/_internal/jit_utils.py:306: UserWarning: Constant folding - Only steps=1 can be constant folded for opset >= 10 onnx::Slice op. Constant folding not applied. (Triggered internally at ../torch/csrc/jit/passes/onnx/constant_fold.cpp:179.)\n",
            "  _C._jit_pass_onnx_node_shape_type_inference(node, params_dict, opset_version)\n",
            "/usr/local/lib/python3.10/dist-packages/torch/onnx/symbolic_helper.py:1466: UserWarning: ONNX export mode is set to TrainingMode.EVAL, but operator 'instance_norm' is set to train=True. Exporting with train=True.\n",
            "  warnings.warn(\n",
            "/usr/local/lib/python3.10/dist-packages/torch/onnx/utils.py:689: UserWarning: Constant folding - Only steps=1 can be constant folded for opset >= 10 onnx::Slice op. Constant folding not applied. (Triggered internally at ../torch/csrc/jit/passes/onnx/constant_fold.cpp:179.)\n",
            "  _C._jit_pass_onnx_graph_shape_type_inference(\n",
            "/usr/local/lib/python3.10/dist-packages/torch/onnx/utils.py:1186: UserWarning: Constant folding - Only steps=1 can be constant folded for opset >= 10 onnx::Slice op. Constant folding not applied. (Triggered internally at ../torch/csrc/jit/passes/onnx/constant_fold.cpp:179.)\n",
            "  _C._jit_pass_onnx_graph_shape_type_inference(\n"
          ]
        },
        {
          "output_type": "stream",
          "name": "stdout",
          "text": [
            "============= Diagnostic Run torch.onnx.export version 2.0.1+cu118 =============\n",
            "verbose: False, log level: Level.ERROR\n",
            "======================= 0 NONE 0 NOTE 0 WARNING 0 ERROR ========================\n",
            "\n"
          ]
        }
      ],
      "source": [
        "image_utils_class = image_utils()\n",
        "\n",
        "if using_informative_drawings == \"True\":\n",
        "    print(\"using informative drawings...\")\n",
        "    id_class = InformativeDrawings()\n",
        "    os.chdir('/content/DIS/IS-Net/informative-drawings/')\n",
        "    image_line = id_class.export_edges_anime(image, depth_data=data, morph_g_ksize=morph_g_ksize, depth_threshold=depth_threshold)\n",
        "else:\n",
        "    print(\"using canny...\")\n",
        "    image_line = image_utils_class.export_edges_anime(image_raw=image, depth_data=data, median_ksize=median_ksize, morph_g_ksize=morph_g_ksize, depth_threshold=depth_threshold, canny_threshold=canny_threshold)\n",
        "#@markdown ## export_edges_anime関数\n",
        "#@markdown ### 引数一覧\n",
        "#@markdown - image_raw: 画像（読み込み時のまま）\n",
        "#@markdown - depth_data: 深度データ(2次元のndarray・0~255)\n",
        "#@markdown - threshold: 深度の閾値（0~255・int型）\n",
        "#@markdown\n",
        "#@markdown ### 出力一覧\n",
        "#@markdown - image: マスク済み画像\n",
        "#@markdown\n",
        "#@markdown ### 分岐\n",
        "#@markdown - informative drawings をTrueに設定するとAI線画に、FalseにするとCanny線画になります。"
      ]
    },
    {
      "cell_type": "code",
      "execution_count": 17,
      "metadata": {
        "id": "q-H83_5UJC54"
      },
      "outputs": [],
      "source": [
        "image_png = image_utils_class.white2transparent(image_line, OS)\n",
        "\n",
        "#@markdown ## white2transparent関数\n",
        "#@markdown 白領域を透明化する関数（色付きは半透明の白になります）"
      ]
    },
    {
      "cell_type": "code",
      "execution_count": 18,
      "metadata": {
        "colab": {
          "base_uri": "https://localhost:8080/",
          "height": 452
        },
        "id": "3pANOWzibWpL",
        "outputId": "15168671-2069-40e9-c8c9-804305294ba6"
      },
      "outputs": [
        {
          "output_type": "execute_result",
          "data": {
            "text/plain": [
              "<matplotlib.image.AxesImage at 0x7fed083021d0>"
            ]
          },
          "metadata": {},
          "execution_count": 18
        },
        {
          "output_type": "display_data",
          "data": {
            "text/plain": [
              "<Figure size 640x480 with 1 Axes>"
            ],
            "image/png": "[encoded data removed]"
          },
          "metadata": {}
        }
      ],
      "source": [
        "plt.imshow(image_png)"
      ]
    },
    {
      "cell_type": "code",
      "execution_count": 19,
      "metadata": {
        "colab": {
          "base_uri": "https://localhost:8080/",
          "height": 17
        },
        "id": "Kg-Zb97tdjBe",
        "outputId": "66b64b70-7ccb-440d-d69b-0508e1072dbf"
      },
      "outputs": [
        {
          "output_type": "display_data",
          "data": {
            "text/plain": [
              "<IPython.core.display.Javascript object>"
            ],
            "application/javascript": [
              "\n",
              "    async function download(id, filename, size) {\n",
              "      if (!google.colab.kernel.accessAllowed) {\n",
              "        return;\n",
              "      }\n",
              "      const div = document.createElement('div');\n",
              "      const label = document.createElement('label');\n",
              "      label.textContent = `Downloading \"${filename}\": `;\n",
              "      div.appendChild(label);\n",
              "      const progress = document.createElement('progress');\n",
              "      progress.max = size;\n",
              "      div.appendChild(progress);\n",
              "      document.body.appendChild(div);\n",
              "\n",
              "      const buffers = [];\n",
              "      let downloaded = 0;\n",
              "\n",
              "      const channel = await google.colab.kernel.comms.open(id);\n",
              "      // Send a message to notify the kernel that we're ready.\n",
              "      channel.send({})\n",
              "\n",
              "      for await (const message of channel.messages) {\n",
              "        // Send a message to notify the kernel that we're ready.\n",
              "        channel.send({})\n",
              "        if (message.buffers) {\n",
              "          for (const buffer of message.buffers) {\n",
              "            buffers.push(buffer);\n",
              "            downloaded += buffer.byteLength;\n",
              "            progress.value = downloaded;\n",
              "          }\n",
              "        }\n",
              "      }\n",
              "      const blob = new Blob(buffers, {type: 'application/binary'});\n",
              "      const a = document.createElement('a');\n",
              "      a.href = window.URL.createObjectURL(blob);\n",
              "      a.download = filename;\n",
              "      div.appendChild(a);\n",
              "      a.click();\n",
              "      div.remove();\n",
              "    }\n",
              "  "
            ]
          },
          "metadata": {}
        },
        {
          "output_type": "display_data",
          "data": {
            "text/plain": [
              "<IPython.core.display.Javascript object>"
            ],
            "application/javascript": [
              "download(\"download_7cb1b057-5f88-42a2-b2b8-362ed605df7a\", \"result.png\", 19931)"
            ]
          },
          "metadata": {}
        }
      ],
      "source": [
        "plt.imsave(\"/content/result.png\",image_png)\n",
        "from google.colab import files\n",
        "files.download('/content/result.png')"
      ]
    },
    {
      "cell_type": "code",
      "execution_count": 20,
      "metadata": {
        "id": "nU4eubO3EveY"
      },
      "outputs": [],
      "source": [
        "# Export depth\n",
        "#@markdown convert.pyで深度情報を確認する時はこのセルを実行して`depth_result.png`をダウンロードします。\n",
        "\n",
        "# # v----この行以下をコメントアウト--------v\n",
        "# export_png = np.zeros((data.shape[0], data.shape[1], 3))\n",
        "# export_png[:,:,0] = data/255\n",
        "# export_png[:,:,1] = data/255\n",
        "# export_png[:,:,2] = data/255\n",
        "\n",
        "# plt.imsave(\"/content/depth_result.png\",export_png)\n",
        "# files.download('/content/depth_result.png')"
      ]
    }
  ],
  "metadata": {
    "accelerator": "GPU",
    "colab": {
      "provenance": []
    },
    "kernelspec": {
      "display_name": "Python 3.10.6 64-bit ('3.10.6')",
      "language": "python",
      "name": "python3"
    },
    "language_info": {
      "name": "python",
      "version": "3.10.6"
    },
    "vscode": {
      "interpreter": {
        "hash": "b4befac3e56e39e73ea575fd36aeeafdc8ef41834eee22ae63e330239ebc486c"
      }
    },
    "gpuClass": "standard"
  },
  "nbformat": 4,
  "nbformat_minor": 0
}