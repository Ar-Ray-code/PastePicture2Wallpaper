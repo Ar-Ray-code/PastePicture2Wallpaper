{
  "cells": [
    {
      "cell_type": "markdown",
      "metadata": {
        "id": "SwUzOv_YJ5c_"
      },
      "source": [
        "# PastePicture2Wallpaper　\n",
        "\n",
        "壁紙作成のための線画作成ツールです🎠\n",
        "\n",
        "**GPUランタイムで実行してください**\n",
        "\n",
        "<br>\n",
        "\n",
        "処理手順\n",
        "1. 深度閾値に従ってMidasを用いた単眼深度推定を行います\n",
        "2. Canny法による線画抽出を行います(線画化過程でノイズ除去や線を太くするなどの処理を行っています)\n",
        "3. OSの雰囲気に応じて半透明化した線画を出力します（result.pngという名前で出力されます）\n",
        "\n",
        "<br>\n",
        "\n",
        "🆕 : informative_drawingsが有効になりました。（デフォルト：True）\n",
        "\n",
        "informative_drawingsはAIによって線画抽出を行います。\n",
        "\n",
        "- median_k_sizeとmodeのオプションは無視されます。\n",
        "\n",
        "<br>\n",
        "\n",
        "以下のパラメータで値を弄ってください\n",
        "\n",
        "\n",
        "<!-- - image_upload_option: 画像をアップロードする方法 -->\n",
        "  <!-- - `Upload from device`: デバイスからアップロード -->\n",
        "  <!-- - `URL`: URLからダウンロード -->\n",
        "  <!-- - `Mount Drive`: Google Driveのマウントを行う -->\n",
        "<!-- - path_or_url: ダウンロード先のURLかマウント先のデバイスのパスを指定(Upload from devieの場合は無視されます) -->\n",
        "- mode: 線画処理のモード\n",
        "  - Anime : アニメ風の輪郭がはっきりとしている画像向け\n",
        "- OS: 壁紙のOSの種類によって出力される線画の雰囲気が少し変わります\n",
        "  - Mac風(灰色):パステルカラーの背景に合わせて半透明の灰色線画を出力\n",
        "  - Mac風(白色):鮮やかな背景に半透明の白線画を出力\n",
        "  - Windows風: 水色の背景にさらに明るい水色半透明の線画を出力\n",
        "  - Ubuntu風: 紫-桃色の背景に馴染む桃色半透明の線画を出力\n",
        "- median_k_size: 細かなノイズを除去します。1の場合、無効化します。\n",
        "- morph_g_ksize: モロフォジー変換用カーネルサイズ。膨張した画像と収縮した画像の差分をとる処理を行い、物体の輪郭を得ます。1の場合は無効化します。\n",
        "- depth_threshold: 出力された深度情報をもとに線画化するための閾値\n",
        "\n",
        "\n",
        "\n",
        "![](https://raw.githubusercontent.com/Ar-Ray-code/PastePicture2Wallpaper/main/images_for_readme/export-variation.png)\n",
        "\n",
        "> デバイスからのアップロードのみ受け付けています\n",
        "> \n",
        "> 直接URLを指定する場合は4番目のコードセルのURLを変更してコメントアウトを外し、以降のセルを実行（Ctrl+F10） を行ってください"
      ]
    },
    {
      "cell_type": "code",
      "execution_count": 1,
      "metadata": {
        "id": "9UIXNyyXdKaO"
      },
      "outputs": [],
      "source": [
        "# image_upload_option = 'Upload from device' #@param [\"Upload from device\", \"URL\", \"Mount Drive\"] {allow-input: true}\n",
        "# path_or_url = \"/content/sample.jpg\"#@param {type:\"string\"}\n",
        "\n",
        "mode = 'Anime' #@param [\"Anime\"] {allow-input: true}\n",
        "OS =  'Mac-Gray' #@param [\"Ubuntu\",\"Windows\",\"Mac-White\",\"Mac-Gray\"] {allow-input: true}\n",
        "using_informative_drawings = \"True\" #@param [\"True\", \"False\"] {allow-input: true}\n",
        "remove_back = 'ISNet' #@param [\"ISNet\", \"Midas\"]\n",
        "\n",
        "# median_ksize=median_ksize, morph_g_ksize=morph_g_ksize\n",
        "\n",
        "median_ksize = 5 #@param {type:\"slider\", min:1, max:9, step:2}\n",
        "morph_g_ksize = 5 #@param {type:\"slider\", min:1, max:9, step:2}\n",
        "depth_threshold = 150 #@param {type:\"slider\", min:0, max:255, step:1}\n",
        "canny_threshold = 150 #@param {type:\"slider\", min:0, max:255, step:1}\n",
        "\n",
        "default_picture = \"True\" #@param [\"True\", \"False\"] {allow-input: true}"
      ]
    },
    {
      "cell_type": "code",
      "source": [
        "print(\"mode=\",mode)\n",
        "print(\"OS=\",OS)\n",
        "print(\"using_informative_drawings=\",using_informative_drawings)\n",
        "print(\"remove_back=\",remove_back)\n",
        "print(\"median_ksize=\",median_ksize)\n",
        "print(\"morph_g_ksize=\",morph_g_ksize)\n",
        "print(\"depth_threshold=\",depth_threshold)\n",
        "print(\"canny_threshold=\",canny_threshold)\n",
        "print(\"default_picture=\",default_picture)"
      ],
      "metadata": {
        "colab": {
          "base_uri": "https://localhost:8080/"
        },
        "id": "hXEDMxIxs7sT",
        "outputId": "97f2454a-b23e-429a-f564-9a9b15f49122"
      },
      "execution_count": 2,
      "outputs": [
        {
          "output_type": "stream",
          "name": "stdout",
          "text": [
            "mode= Anime\n",
            "OS= Mac-Gray\n",
            "using_informative_drawings= True\n",
            "remove_back= Midas\n",
            "median_ksize= 5\n",
            "morph_g_ksize= 5\n",
            "depth_threshold= 150\n",
            "canny_threshold= 150\n",
            "default_picture= True\n"
          ]
        }
      ]
    },
    {
      "cell_type": "code",
      "source": [
        "!pip install wget"
      ],
      "metadata": {
        "colab": {
          "base_uri": "https://localhost:8080/"
        },
        "id": "jaFyU0CnwWz8",
        "outputId": "64047d00-50c4-4bd0-f18d-4b9d861cd11b"
      },
      "execution_count": 3,
      "outputs": [
        {
          "output_type": "stream",
          "name": "stdout",
          "text": [
            "Looking in indexes: https://pypi.org/simple, https://us-python.pkg.dev/colab-wheels/public/simple/\n",
            "Collecting wget\n",
            "  Downloading wget-3.2.zip (10 kB)\n",
            "  Preparing metadata (setup.py) ... \u001b[?25l\u001b[?25hdone\n",
            "Building wheels for collected packages: wget\n",
            "  Building wheel for wget (setup.py) ... \u001b[?25l\u001b[?25hdone\n",
            "  Created wheel for wget: filename=wget-3.2-py3-none-any.whl size=9674 sha256=705c56d4eb8bd08d92087255f1f0c29170d704fcb59afb0c74c96f0c37e640c3\n",
            "  Stored in directory: /root/.cache/pip/wheels/bd/a8/c3/3cf2c14a1837a4e04bd98631724e81f33f462d86a1d895fae0\n",
            "Successfully built wget\n",
            "Installing collected packages: wget\n",
            "Successfully installed wget-3.2\n"
          ]
        }
      ]
    },
    {
      "cell_type": "code",
      "execution_count": 4,
      "metadata": {
        "id": "8PbJjVsrTrzK"
      },
      "outputs": [],
      "source": [
        "# Upload from device\n",
        "if default_picture == \"True\":\n",
        "    import wget\n",
        "    url = 'https://s3.ap-northeast-1.wasabisys.com/download-raw/urara/album/urara-toresen.jpg'\n",
        "    filename = wget.download(url)\n",
        "else:\n",
        "    from google.colab import files\n",
        "    uploaded = files.upload()\n",
        "\n",
        "#@markdown ### アップロードを (Choose Files)から行ってください\n",
        "#@markdown Driveのマウントの場合はこのステップを飛ばして、新しくコードセルを作成して、`/content`に対象ファイルをコピーしてください\n",
        "\n",
        "# from google.colab import drive\n",
        "# drive.mount('/content/drive')\n",
        "\n",
        "#@markdown <br>\n",
        "\n",
        "#@markdown ### default_picture=Trueの場合\n",
        "#@markdown - [urara-toresen.jpg](https://s3.ap-northeast-1.wasabisys.com/download-raw/urara/album/urara-toresen.jpg) がダウンロードされます。\n"
      ]
    },
    {
      "cell_type": "code",
      "execution_count": 5,
      "metadata": {
        "id": "maDiodVfAc1F"
      },
      "outputs": [],
      "source": [
        "#@markdown ###URLを指定する場合はこちらを編集し、upload.jpgで保存すること\n",
        "# !rm sample.jpg\n",
        "# !wget \"https://drive.google.com/uc?export=download&id=1M1eDdinWr-aPT28cyOo01LlMFUnsBbRQ\" -O upload.jpg"
      ]
    },
    {
      "cell_type": "code",
      "execution_count": 6,
      "metadata": {
        "id": "LofUpIu2f2bJ",
        "colab": {
          "base_uri": "https://localhost:8080/"
        },
        "outputId": "f7cdacb0-0f3b-489b-952e-da3a3f6b4216"
      },
      "outputs": [
        {
          "output_type": "stream",
          "name": "stdout",
          "text": [
            "ffmpeg version 4.2.7-0ubuntu0.1 Copyright (c) 2000-2022 the FFmpeg developers\n",
            "  built with gcc 9 (Ubuntu 9.4.0-1ubuntu1~20.04.1)\n",
            "  configuration: --prefix=/usr --extra-version=0ubuntu0.1 --toolchain=hardened --libdir=/usr/lib/x86_64-linux-gnu --incdir=/usr/include/x86_64-linux-gnu --arch=amd64 --enable-gpl --disable-stripping --enable-avresample --disable-filter=resample --enable-avisynth --enable-gnutls --enable-ladspa --enable-libaom --enable-libass --enable-libbluray --enable-libbs2b --enable-libcaca --enable-libcdio --enable-libcodec2 --enable-libflite --enable-libfontconfig --enable-libfreetype --enable-libfribidi --enable-libgme --enable-libgsm --enable-libjack --enable-libmp3lame --enable-libmysofa --enable-libopenjpeg --enable-libopenmpt --enable-libopus --enable-libpulse --enable-librsvg --enable-librubberband --enable-libshine --enable-libsnappy --enable-libsoxr --enable-libspeex --enable-libssh --enable-libtheora --enable-libtwolame --enable-libvidstab --enable-libvorbis --enable-libvpx --enable-libwavpack --enable-libwebp --enable-libx265 --enable-libxml2 --enable-libxvid --enable-libzmq --enable-libzvbi --enable-lv2 --enable-omx --enable-openal --enable-opencl --enable-opengl --enable-sdl2 --enable-libdc1394 --enable-libdrm --enable-libiec61883 --enable-nvenc --enable-chromaprint --enable-frei0r --enable-libx264 --enable-shared\n",
            "  libavutil      56. 31.100 / 56. 31.100\n",
            "  libavcodec     58. 54.100 / 58. 54.100\n",
            "  libavformat    58. 29.100 / 58. 29.100\n",
            "  libavdevice    58.  8.100 / 58.  8.100\n",
            "  libavfilter     7. 57.100 /  7. 57.100\n",
            "  libavresample   4.  0.  0 /  4.  0.  0\n",
            "  libswscale      5.  5.100 /  5.  5.100\n",
            "  libswresample   3.  5.100 /  3.  5.100\n",
            "  libpostproc    55.  5.100 / 55.  5.100\n",
            "\u001b[0;35m[image2 @ 0x5595e3ca6e40] \u001b[0m\u001b[1;31mCould find no file with path '*.png' and index in the range 0-4\n",
            "\u001b[0m\u001b[1;31m*.png: No such file or directory\n",
            "\u001b[0mffmpeg version 4.2.7-0ubuntu0.1 Copyright (c) 2000-2022 the FFmpeg developers\n",
            "  built with gcc 9 (Ubuntu 9.4.0-1ubuntu1~20.04.1)\n",
            "  configuration: --prefix=/usr --extra-version=0ubuntu0.1 --toolchain=hardened --libdir=/usr/lib/x86_64-linux-gnu --incdir=/usr/include/x86_64-linux-gnu --arch=amd64 --enable-gpl --disable-stripping --enable-avresample --disable-filter=resample --enable-avisynth --enable-gnutls --enable-ladspa --enable-libaom --enable-libass --enable-libbluray --enable-libbs2b --enable-libcaca --enable-libcdio --enable-libcodec2 --enable-libflite --enable-libfontconfig --enable-libfreetype --enable-libfribidi --enable-libgme --enable-libgsm --enable-libjack --enable-libmp3lame --enable-libmysofa --enable-libopenjpeg --enable-libopenmpt --enable-libopus --enable-libpulse --enable-librsvg --enable-librubberband --enable-libshine --enable-libsnappy --enable-libsoxr --enable-libspeex --enable-libssh --enable-libtheora --enable-libtwolame --enable-libvidstab --enable-libvorbis --enable-libvpx --enable-libwavpack --enable-libwebp --enable-libx265 --enable-libxml2 --enable-libxvid --enable-libzmq --enable-libzvbi --enable-lv2 --enable-omx --enable-openal --enable-opencl --enable-opengl --enable-sdl2 --enable-libdc1394 --enable-libdrm --enable-libiec61883 --enable-nvenc --enable-chromaprint --enable-frei0r --enable-libx264 --enable-shared\n",
            "  libavutil      56. 31.100 / 56. 31.100\n",
            "  libavcodec     58. 54.100 / 58. 54.100\n",
            "  libavformat    58. 29.100 / 58. 29.100\n",
            "  libavdevice    58.  8.100 / 58.  8.100\n",
            "  libavfilter     7. 57.100 /  7. 57.100\n",
            "  libavresample   4.  0.  0 /  4.  0.  0\n",
            "  libswscale      5.  5.100 /  5.  5.100\n",
            "  libswresample   3.  5.100 /  3.  5.100\n",
            "  libpostproc    55.  5.100 / 55.  5.100\n",
            "Input #0, image2, from 'urara-toresen.jpg':\n",
            "  Duration: 00:00:00.04, start: 0.000000, bitrate: 518236 kb/s\n",
            "    Stream #0:0: Video: mjpeg (Baseline), yuvj444p(pc, bt470bg/unknown/unknown), 1640x2148 [SAR 144:144 DAR 410:537], 25 tbr, 25 tbn, 25 tbc\n",
            "Stream mapping:\n",
            "  Stream #0:0 -> #0:0 (mjpeg (native) -> mjpeg (native))\n",
            "Press [q] to stop, [?] for help\n",
            "\u001b[1;34m[swscaler @ 0x55be644fa940] \u001b[0m\u001b[0;33mdeprecated pixel format used, make sure you did set range correctly\n",
            "\u001b[0mOutput #0, image2, to 'upload.jpg':\n",
            "  Metadata:\n",
            "    encoder         : Lavf58.29.100\n",
            "    Stream #0:0: Video: mjpeg, yuvj444p(pc), 550x720 [SAR 1968:1969 DAR 410:537], q=2-31, 200 kb/s, 25 fps, 25 tbn, 25 tbc\n",
            "    Metadata:\n",
            "      encoder         : Lavc58.54.100 mjpeg\n",
            "    Side data:\n",
            "      cpb: bitrate max/min/avg: 0/0/200000 buffer size: 0 vbv_delay: -1\n",
            "frame=    1 fps=0.0 q=6.8 Lsize=N/A time=00:00:00.04 bitrate=N/A speed=0.23x    \n",
            "video:72kB audio:0kB subtitle:0kB other streams:0kB global headers:0kB muxing overhead: unknown\n"
          ]
        }
      ],
      "source": [
        "!ffmpeg -i *.png -vf scale=-1:720 upload.jpg\n",
        "!ffmpeg -i *.jpg -vf scale=-1:720 upload.jpg"
      ]
    },
    {
      "cell_type": "code",
      "execution_count": 7,
      "metadata": {
        "id": "Z81Rg6PoAhDc",
        "colab": {
          "base_uri": "https://localhost:8080/"
        },
        "outputId": "ae6ac665-6e74-486b-80ec-71f161b10584"
      },
      "outputs": [
        {
          "output_type": "stream",
          "name": "stdout",
          "text": [
            "Looking in indexes: https://pypi.org/simple, https://us-python.pkg.dev/colab-wheels/public/simple/\n",
            "Collecting tensorflow==2.8.0\n",
            "  Downloading tensorflow-2.8.0-cp38-cp38-manylinux2010_x86_64.whl (497.6 MB)\n",
            "\u001b[2K     \u001b[90m━━━━━━━━━━━━━━━━━━━━━━━━━━━━━━━━━━━━━━━\u001b[0m \u001b[32m497.6/497.6 MB\u001b[0m \u001b[31m3.3 MB/s\u001b[0m eta \u001b[36m0:00:00\u001b[0m\n",
            "\u001b[?25hRequirement already satisfied: tensorflow-hub==0.12.0 in /usr/local/lib/python3.8/dist-packages (0.12.0)\n",
            "Collecting onnxruntime\n",
            "  Downloading onnxruntime-1.14.0-cp38-cp38-manylinux_2_27_x86_64.whl (5.0 MB)\n",
            "\u001b[2K     \u001b[90m━━━━━━━━━━━━━━━━━━━━━━━━━━━━━━━━━━━━━━━━\u001b[0m \u001b[32m5.0/5.0 MB\u001b[0m \u001b[31m73.9 MB/s\u001b[0m eta \u001b[36m0:00:00\u001b[0m\n",
            "\u001b[?25hRequirement already satisfied: h5py>=2.9.0 in /usr/local/lib/python3.8/dist-packages (from tensorflow==2.8.0) (3.1.0)\n",
            "Collecting keras-preprocessing>=1.1.1\n",
            "  Downloading Keras_Preprocessing-1.1.2-py2.py3-none-any.whl (42 kB)\n",
            "\u001b[2K     \u001b[90m━━━━━━━━━━━━━━━━━━━━━━━━━━━━━━━━━━━━━━━━\u001b[0m \u001b[32m42.6/42.6 KB\u001b[0m \u001b[31m5.1 MB/s\u001b[0m eta \u001b[36m0:00:00\u001b[0m\n",
            "\u001b[?25hCollecting tensorboard<2.9,>=2.8\n",
            "  Downloading tensorboard-2.8.0-py3-none-any.whl (5.8 MB)\n",
            "\u001b[2K     \u001b[90m━━━━━━━━━━━━━━━━━━━━━━━━━━━━━━━━━━━━━━━━\u001b[0m \u001b[32m5.8/5.8 MB\u001b[0m \u001b[31m62.1 MB/s\u001b[0m eta \u001b[36m0:00:00\u001b[0m\n",
            "\u001b[?25hRequirement already satisfied: opt-einsum>=2.3.2 in /usr/local/lib/python3.8/dist-packages (from tensorflow==2.8.0) (3.3.0)\n",
            "Collecting keras<2.9,>=2.8.0rc0\n",
            "  Downloading keras-2.8.0-py2.py3-none-any.whl (1.4 MB)\n",
            "\u001b[2K     \u001b[90m━━━━━━━━━━━━━━━━━━━━━━━━━━━━━━━━━━━━━━━━\u001b[0m \u001b[32m1.4/1.4 MB\u001b[0m \u001b[31m60.8 MB/s\u001b[0m eta \u001b[36m0:00:00\u001b[0m\n",
            "\u001b[?25hCollecting tf-estimator-nightly==2.8.0.dev2021122109\n",
            "  Downloading tf_estimator_nightly-2.8.0.dev2021122109-py2.py3-none-any.whl (462 kB)\n",
            "\u001b[2K     \u001b[90m━━━━━━━━━━━━━━━━━━━━━━━━━━━━━━━━━━━━━━\u001b[0m \u001b[32m462.5/462.5 KB\u001b[0m \u001b[31m37.6 MB/s\u001b[0m eta \u001b[36m0:00:00\u001b[0m\n",
            "\u001b[?25hRequirement already satisfied: astunparse>=1.6.0 in /usr/local/lib/python3.8/dist-packages (from tensorflow==2.8.0) (1.6.3)\n",
            "Requirement already satisfied: libclang>=9.0.1 in /usr/local/lib/python3.8/dist-packages (from tensorflow==2.8.0) (15.0.6.1)\n",
            "Requirement already satisfied: typing-extensions>=3.6.6 in /usr/local/lib/python3.8/dist-packages (from tensorflow==2.8.0) (4.5.0)\n",
            "Requirement already satisfied: grpcio<2.0,>=1.24.3 in /usr/local/lib/python3.8/dist-packages (from tensorflow==2.8.0) (1.51.1)\n",
            "Requirement already satisfied: gast>=0.2.1 in /usr/local/lib/python3.8/dist-packages (from tensorflow==2.8.0) (0.4.0)\n",
            "Requirement already satisfied: numpy>=1.20 in /usr/local/lib/python3.8/dist-packages (from tensorflow==2.8.0) (1.22.4)\n",
            "Requirement already satisfied: absl-py>=0.4.0 in /usr/local/lib/python3.8/dist-packages (from tensorflow==2.8.0) (1.4.0)\n",
            "Requirement already satisfied: flatbuffers>=1.12 in /usr/local/lib/python3.8/dist-packages (from tensorflow==2.8.0) (23.1.21)\n",
            "Requirement already satisfied: termcolor>=1.1.0 in /usr/local/lib/python3.8/dist-packages (from tensorflow==2.8.0) (2.2.0)\n",
            "Requirement already satisfied: tensorflow-io-gcs-filesystem>=0.23.1 in /usr/local/lib/python3.8/dist-packages (from tensorflow==2.8.0) (0.30.0)\n",
            "Requirement already satisfied: google-pasta>=0.1.1 in /usr/local/lib/python3.8/dist-packages (from tensorflow==2.8.0) (0.2.0)\n",
            "Requirement already satisfied: protobuf>=3.9.2 in /usr/local/lib/python3.8/dist-packages (from tensorflow==2.8.0) (3.19.6)\n",
            "Requirement already satisfied: six>=1.12.0 in /usr/local/lib/python3.8/dist-packages (from tensorflow==2.8.0) (1.15.0)\n",
            "Requirement already satisfied: wrapt>=1.11.0 in /usr/local/lib/python3.8/dist-packages (from tensorflow==2.8.0) (1.14.1)\n",
            "Requirement already satisfied: setuptools in /usr/local/lib/python3.8/dist-packages (from tensorflow==2.8.0) (57.4.0)\n",
            "Requirement already satisfied: sympy in /usr/local/lib/python3.8/dist-packages (from onnxruntime) (1.7.1)\n",
            "Collecting coloredlogs\n",
            "  Downloading coloredlogs-15.0.1-py2.py3-none-any.whl (46 kB)\n",
            "\u001b[2K     \u001b[90m━━━━━━━━━━━━━━━━━━━━━━━━━━━━━━━━━━━━━━━━\u001b[0m \u001b[32m46.0/46.0 KB\u001b[0m \u001b[31m5.1 MB/s\u001b[0m eta \u001b[36m0:00:00\u001b[0m\n",
            "\u001b[?25hRequirement already satisfied: packaging in /usr/local/lib/python3.8/dist-packages (from onnxruntime) (23.0)\n",
            "Requirement already satisfied: wheel<1.0,>=0.23.0 in /usr/local/lib/python3.8/dist-packages (from astunparse>=1.6.0->tensorflow==2.8.0) (0.38.4)\n",
            "Requirement already satisfied: requests<3,>=2.21.0 in /usr/local/lib/python3.8/dist-packages (from tensorboard<2.9,>=2.8->tensorflow==2.8.0) (2.25.1)\n",
            "Requirement already satisfied: google-auth<3,>=1.6.3 in /usr/local/lib/python3.8/dist-packages (from tensorboard<2.9,>=2.8->tensorflow==2.8.0) (2.16.1)\n",
            "Requirement already satisfied: google-auth-oauthlib<0.5,>=0.4.1 in /usr/local/lib/python3.8/dist-packages (from tensorboard<2.9,>=2.8->tensorflow==2.8.0) (0.4.6)\n",
            "Requirement already satisfied: werkzeug>=0.11.15 in /usr/local/lib/python3.8/dist-packages (from tensorboard<2.9,>=2.8->tensorflow==2.8.0) (1.0.1)\n",
            "Requirement already satisfied: tensorboard-plugin-wit>=1.6.0 in /usr/local/lib/python3.8/dist-packages (from tensorboard<2.9,>=2.8->tensorflow==2.8.0) (1.8.1)\n",
            "Requirement already satisfied: tensorboard-data-server<0.7.0,>=0.6.0 in /usr/local/lib/python3.8/dist-packages (from tensorboard<2.9,>=2.8->tensorflow==2.8.0) (0.6.1)\n",
            "Requirement already satisfied: markdown>=2.6.8 in /usr/local/lib/python3.8/dist-packages (from tensorboard<2.9,>=2.8->tensorflow==2.8.0) (3.4.1)\n",
            "Collecting humanfriendly>=9.1\n",
            "  Downloading humanfriendly-10.0-py2.py3-none-any.whl (86 kB)\n",
            "\u001b[2K     \u001b[90m━━━━━━━━━━━━━━━━━━━━━━━━━━━━━━━━━━━━━━━━\u001b[0m \u001b[32m86.8/86.8 KB\u001b[0m \u001b[31m12.4 MB/s\u001b[0m eta \u001b[36m0:00:00\u001b[0m\n",
            "\u001b[?25hRequirement already satisfied: mpmath>=0.19 in /usr/local/lib/python3.8/dist-packages (from sympy->onnxruntime) (1.2.1)\n",
            "Requirement already satisfied: cachetools<6.0,>=2.0.0 in /usr/local/lib/python3.8/dist-packages (from google-auth<3,>=1.6.3->tensorboard<2.9,>=2.8->tensorflow==2.8.0) (5.3.0)\n",
            "Requirement already satisfied: pyasn1-modules>=0.2.1 in /usr/local/lib/python3.8/dist-packages (from google-auth<3,>=1.6.3->tensorboard<2.9,>=2.8->tensorflow==2.8.0) (0.2.8)\n",
            "Requirement already satisfied: rsa<5,>=3.1.4 in /usr/local/lib/python3.8/dist-packages (from google-auth<3,>=1.6.3->tensorboard<2.9,>=2.8->tensorflow==2.8.0) (4.9)\n",
            "Requirement already satisfied: requests-oauthlib>=0.7.0 in /usr/local/lib/python3.8/dist-packages (from google-auth-oauthlib<0.5,>=0.4.1->tensorboard<2.9,>=2.8->tensorflow==2.8.0) (1.3.1)\n",
            "Requirement already satisfied: importlib-metadata>=4.4 in /usr/local/lib/python3.8/dist-packages (from markdown>=2.6.8->tensorboard<2.9,>=2.8->tensorflow==2.8.0) (6.0.0)\n",
            "Requirement already satisfied: certifi>=2017.4.17 in /usr/local/lib/python3.8/dist-packages (from requests<3,>=2.21.0->tensorboard<2.9,>=2.8->tensorflow==2.8.0) (2022.12.7)\n",
            "Requirement already satisfied: chardet<5,>=3.0.2 in /usr/local/lib/python3.8/dist-packages (from requests<3,>=2.21.0->tensorboard<2.9,>=2.8->tensorflow==2.8.0) (4.0.0)\n",
            "Requirement already satisfied: idna<3,>=2.5 in /usr/local/lib/python3.8/dist-packages (from requests<3,>=2.21.0->tensorboard<2.9,>=2.8->tensorflow==2.8.0) (2.10)\n",
            "Requirement already satisfied: urllib3<1.27,>=1.21.1 in /usr/local/lib/python3.8/dist-packages (from requests<3,>=2.21.0->tensorboard<2.9,>=2.8->tensorflow==2.8.0) (1.24.3)\n",
            "Requirement already satisfied: zipp>=0.5 in /usr/local/lib/python3.8/dist-packages (from importlib-metadata>=4.4->markdown>=2.6.8->tensorboard<2.9,>=2.8->tensorflow==2.8.0) (3.14.0)\n",
            "Requirement already satisfied: pyasn1<0.5.0,>=0.4.6 in /usr/local/lib/python3.8/dist-packages (from pyasn1-modules>=0.2.1->google-auth<3,>=1.6.3->tensorboard<2.9,>=2.8->tensorflow==2.8.0) (0.4.8)\n",
            "Requirement already satisfied: oauthlib>=3.0.0 in /usr/local/lib/python3.8/dist-packages (from requests-oauthlib>=0.7.0->google-auth-oauthlib<0.5,>=0.4.1->tensorboard<2.9,>=2.8->tensorflow==2.8.0) (3.2.2)\n",
            "Installing collected packages: tf-estimator-nightly, keras, keras-preprocessing, humanfriendly, coloredlogs, onnxruntime, tensorboard, tensorflow\n",
            "  Attempting uninstall: keras\n",
            "    Found existing installation: keras 2.11.0\n",
            "    Uninstalling keras-2.11.0:\n",
            "      Successfully uninstalled keras-2.11.0\n",
            "  Attempting uninstall: tensorboard\n",
            "    Found existing installation: tensorboard 2.11.2\n",
            "    Uninstalling tensorboard-2.11.2:\n",
            "      Successfully uninstalled tensorboard-2.11.2\n",
            "  Attempting uninstall: tensorflow\n",
            "    Found existing installation: tensorflow 2.11.0\n",
            "    Uninstalling tensorflow-2.11.0:\n",
            "      Successfully uninstalled tensorflow-2.11.0\n",
            "Successfully installed coloredlogs-15.0.1 humanfriendly-10.0 keras-2.8.0 keras-preprocessing-1.1.2 onnxruntime-1.14.0 tensorboard-2.8.0 tensorflow-2.8.0 tf-estimator-nightly-2.8.0.dev2021122109\n"
          ]
        }
      ],
      "source": [
        "!pip install tensorflow==2.8.0 tensorflow-hub==0.12.0 onnxruntime"
      ]
    },
    {
      "cell_type": "code",
      "source": [
        "# DIS\n",
        "! git clone https://github.com/xuebinqin/DIS\n",
        "%cd /content/DIS/IS-Net\n",
        "\n",
        "!pip install onnxruntime\n",
        "!pip install --upgrade gdown\n",
        "\n",
        "!mkdir saved_models"
      ],
      "metadata": {
        "colab": {
          "base_uri": "https://localhost:8080/"
        },
        "id": "AF9hHIttx-Nl",
        "outputId": "7f78e49c-cfc3-4c56-cb41-432981b86d9e"
      },
      "execution_count": 8,
      "outputs": [
        {
          "output_type": "stream",
          "name": "stdout",
          "text": [
            "Cloning into 'DIS'...\n",
            "remote: Enumerating objects: 328, done.\u001b[K\n",
            "remote: Counting objects: 100% (82/82), done.\u001b[K\n",
            "remote: Compressing objects: 100% (22/22), done.\u001b[K\n",
            "remote: Total 328 (delta 70), reused 61 (delta 60), pack-reused 246\u001b[K\n",
            "Receiving objects: 100% (328/328), 49.59 MiB | 15.20 MiB/s, done.\n",
            "Resolving deltas: 100% (153/153), done.\n",
            "/content/DIS/IS-Net\n",
            "Looking in indexes: https://pypi.org/simple, https://us-python.pkg.dev/colab-wheels/public/simple/\n",
            "Requirement already satisfied: onnxruntime in /usr/local/lib/python3.8/dist-packages (1.14.0)\n",
            "Requirement already satisfied: sympy in /usr/local/lib/python3.8/dist-packages (from onnxruntime) (1.7.1)\n",
            "Requirement already satisfied: protobuf in /usr/local/lib/python3.8/dist-packages (from onnxruntime) (3.19.6)\n",
            "Requirement already satisfied: flatbuffers in /usr/local/lib/python3.8/dist-packages (from onnxruntime) (23.1.21)\n",
            "Requirement already satisfied: numpy>=1.21.6 in /usr/local/lib/python3.8/dist-packages (from onnxruntime) (1.22.4)\n",
            "Requirement already satisfied: coloredlogs in /usr/local/lib/python3.8/dist-packages (from onnxruntime) (15.0.1)\n",
            "Requirement already satisfied: packaging in /usr/local/lib/python3.8/dist-packages (from onnxruntime) (23.0)\n",
            "Requirement already satisfied: humanfriendly>=9.1 in /usr/local/lib/python3.8/dist-packages (from coloredlogs->onnxruntime) (10.0)\n",
            "Requirement already satisfied: mpmath>=0.19 in /usr/local/lib/python3.8/dist-packages (from sympy->onnxruntime) (1.2.1)\n",
            "Looking in indexes: https://pypi.org/simple, https://us-python.pkg.dev/colab-wheels/public/simple/\n",
            "Requirement already satisfied: gdown in /usr/local/lib/python3.8/dist-packages (4.4.0)\n",
            "Collecting gdown\n",
            "  Downloading gdown-4.6.4-py3-none-any.whl (14 kB)\n",
            "Requirement already satisfied: six in /usr/local/lib/python3.8/dist-packages (from gdown) (1.15.0)\n",
            "Requirement already satisfied: requests[socks] in /usr/local/lib/python3.8/dist-packages (from gdown) (2.25.1)\n",
            "Requirement already satisfied: beautifulsoup4 in /usr/local/lib/python3.8/dist-packages (from gdown) (4.6.3)\n",
            "Requirement already satisfied: tqdm in /usr/local/lib/python3.8/dist-packages (from gdown) (4.64.1)\n",
            "Requirement already satisfied: filelock in /usr/local/lib/python3.8/dist-packages (from gdown) (3.9.0)\n",
            "Requirement already satisfied: chardet<5,>=3.0.2 in /usr/local/lib/python3.8/dist-packages (from requests[socks]->gdown) (4.0.0)\n",
            "Requirement already satisfied: idna<3,>=2.5 in /usr/local/lib/python3.8/dist-packages (from requests[socks]->gdown) (2.10)\n",
            "Requirement already satisfied: certifi>=2017.4.17 in /usr/local/lib/python3.8/dist-packages (from requests[socks]->gdown) (2022.12.7)\n",
            "Requirement already satisfied: urllib3<1.27,>=1.21.1 in /usr/local/lib/python3.8/dist-packages (from requests[socks]->gdown) (1.24.3)\n",
            "Requirement already satisfied: PySocks!=1.5.7,>=1.5.6 in /usr/local/lib/python3.8/dist-packages (from requests[socks]->gdown) (1.7.1)\n",
            "Installing collected packages: gdown\n",
            "  Attempting uninstall: gdown\n",
            "    Found existing installation: gdown 4.4.0\n",
            "    Uninstalling gdown-4.4.0:\n",
            "      Successfully uninstalled gdown-4.4.0\n",
            "Successfully installed gdown-4.6.4\n"
          ]
        }
      ]
    },
    {
      "cell_type": "code",
      "source": [
        "if remove_back=='ISNet':\n",
        "    import gdown\n",
        "\n",
        "    gdown.download(\n",
        "        'https://drive.google.com/uc?id=1KyMpRjewZdyYfxHPYcd-ZbanIXtin0Sn', \n",
        "        './saved_models/isnet.pth', \n",
        "        quiet=False,\n",
        "    )\n",
        "    gdown.download(\n",
        "        'https://drive.google.com/uc?id=1nV57qKuy--d5u1yvkng9aXW1KS4sOpOi', \n",
        "        './saved_models/isnet-general-use.pth', \n",
        "        quiet=False,\n",
        "    )\n",
        "\n",
        "    import numpy as np\n",
        "    from PIL import Image\n",
        "    import torch\n",
        "    from torch.autograd import Variable\n",
        "    from torchvision import transforms\n",
        "    import torch.nn.functional as F\n",
        "    import gdown\n",
        "    import os\n",
        "\n",
        "    import requests\n",
        "    import matplotlib.pyplot as plt\n",
        "    from io import BytesIO\n",
        "\n",
        "    # project imports\n",
        "    from data_loader_cache import normalize, im_reader, im_preprocess \n",
        "    from models import *\n",
        "\n",
        "    # device = 'cuda' if torch.cuda.is_available() else 'cpu'\n",
        "    device = 'cpu'\n",
        "\n",
        "    class GOSNormalize(object):\n",
        "        '''\n",
        "        Normalize the Image using torch.transforms\n",
        "        '''\n",
        "        def __init__(self, mean=[0.485,0.456,0.406], std=[0.229,0.224,0.225]):\n",
        "            self.mean = mean\n",
        "            self.std = std\n",
        "\n",
        "        def __call__(self,image):\n",
        "            image = normalize(image,self.mean,self.std)\n",
        "            return image\n",
        "\n",
        "\n",
        "    transform =  transforms.Compose([GOSNormalize([0.5,0.5,0.5],[1.0,1.0,1.0])])\n",
        "\n",
        "    def load_image(im_path, hypar):\n",
        "        if im_path.startswith(\"http\"):\n",
        "            im_path = BytesIO(requests.get(im_path).content)\n",
        "\n",
        "        im = im_reader(im_path)\n",
        "        im, im_shp = im_preprocess(im, hypar[\"cache_size\"])\n",
        "        im = torch.divide(im,255.0)\n",
        "        shape = torch.from_numpy(np.array(im_shp))\n",
        "        return transform(im).unsqueeze(0), shape.unsqueeze(0) # make a batch of image, shape\n",
        "\n",
        "\n",
        "    def build_model(hypar,device):\n",
        "        net = hypar[\"model\"]#GOSNETINC(3,1)\n",
        "\n",
        "        # convert to half precision\n",
        "        if(hypar[\"model_digit\"]==\"half\"):\n",
        "            net.half()\n",
        "            for layer in net.modules():\n",
        "                if isinstance(layer, nn.BatchNorm2d):\n",
        "                    layer.float()\n",
        "\n",
        "        net.to(device)\n",
        "\n",
        "        if(hypar[\"restore_model\"]!=\"\"):\n",
        "            net.load_state_dict(torch.load(hypar[\"model_path\"]+\"/\"+hypar[\"restore_model\"],map_location=device))\n",
        "            net.to(device)\n",
        "        net.eval()  \n",
        "        return net\n",
        "\n",
        "        \n",
        "    def predict(net,  inputs_val, shapes_val, hypar, device):\n",
        "        '''\n",
        "        Given an Image, predict the mask\n",
        "        '''\n",
        "        net.eval()\n",
        "\n",
        "        if(hypar[\"model_digit\"]==\"full\"):\n",
        "            inputs_val = inputs_val.type(torch.FloatTensor)\n",
        "        else:\n",
        "            inputs_val = inputs_val.type(torch.HalfTensor)\n",
        "\n",
        "    \n",
        "        inputs_val_v = Variable(inputs_val, requires_grad=False).to(device) # wrap inputs in Variable\n",
        "    \n",
        "        ds_val = net(inputs_val_v)[0] # list of 6 results\n",
        "\n",
        "        pred_val = ds_val[0][0,:,:,:] # B x 1 x H x W    # we want the first one which is the most accurate prediction\n",
        "\n",
        "        ## recover the prediction spatial size to the orignal image size\n",
        "        pred_val = torch.squeeze(F.upsample(torch.unsqueeze(pred_val,0),(shapes_val[0][0],shapes_val[0][1]),mode='bilinear'))\n",
        "\n",
        "        ma = torch.max(pred_val)\n",
        "        mi = torch.min(pred_val)\n",
        "        pred_val = (pred_val-mi)/(ma-mi) # max = 1\n",
        "\n",
        "        if device == 'cuda': torch.cuda.empty_cache()\n",
        "        return (pred_val.detach().cpu().numpy()*255).astype(np.uint8) # it is the mask we need\n",
        "\n",
        "    # gen param\n",
        "    hypar = {} # paramters for inferencing\n",
        "\n",
        "    hypar[\"model_path\"] =\"./saved_models\" ## load trained weights from this path\n",
        "    hypar[\"restore_model\"] = \"isnet-general-use.pth\"  # \"isnet.pth\" ## name of the to-be-loaded weights\n",
        "    hypar[\"interm_sup\"] = False ## indicate if activate intermediate feature supervision\n",
        "\n",
        "    ##  choose floating point accuracy --\n",
        "    hypar[\"model_digit\"] = \"full\" ## indicates \"half\" or \"full\" accuracy of float number\n",
        "    hypar[\"seed\"] = 0\n",
        "\n",
        "    hypar[\"cache_size\"] = [1024, 1024] ## cached input spatial resolution, can be configured into different size\n",
        "\n",
        "    ## data augmentation parameters ---\n",
        "    hypar[\"input_size\"] = [1024, 1024] ## mdoel input spatial size, usually use the same value hypar[\"cache_size\"], which means we don't further resize the images\n",
        "    hypar[\"crop_size\"] = [1024, 1024] ## random crop size from the input, it is usually set as smaller than hypar[\"cache_size\"], e.g., [920,920] for data augmentation\n",
        "\n",
        "    hypar[\"model\"] = ISNetDIS()\n",
        "\n",
        "# build model\n",
        "    net = build_model(hypar, device)\n",
        "\n",
        "# ONNX convert\n",
        "    def convert_to_onnx(net, file_name='output.onnx', input_shape=(512, 512), device='cpu'):\n",
        "        input = torch.randn(1, 3, input_shape[0], input_shape[1]).to(device)\n",
        "\n",
        "        input_layer_names = ['input_image']\n",
        "        output_layer_names = ['output_image']\n",
        "\n",
        "        torch.onnx.export(\n",
        "            net, \n",
        "            input, \n",
        "            file_name, \n",
        "            verbose=True,\n",
        "            opset_version=13,\n",
        "            input_names=input_layer_names,\n",
        "            output_names=output_layer_names,\n",
        "        )\n",
        "\n",
        "    convert_to_onnx(net, file_name='isnet-general-use.onnx', input_shape=(1024, 1024))\n",
        "\n",
        "    import cv2\n",
        "    image = cv2.imread('/content/upload.jpg')\n",
        "\n",
        "    from google.colab.patches import cv2_imshow\n",
        "    #cv2_imshow(image)\n",
        "\n",
        "    # inference\n",
        "    def run_inference(onnx_session, image, score_th=None):\n",
        "        # ONNX Input Size\n",
        "        input_size = onnx_session.get_inputs()[0].shape\n",
        "        input_width = input_size[3]\n",
        "        input_height = input_size[2]\n",
        "\n",
        "        # Pre process:Resize, BGR->RGB, float32 cast\n",
        "        input_image = cv2.resize(image, dsize=(input_width, input_height))\n",
        "        input_image = cv2.cvtColor(input_image, cv2.COLOR_BGR2RGB)\n",
        "        mean = [0.5, 0.5, 0.5]\n",
        "        std = [1.0, 1.0, 1.0]\n",
        "        input_image = (input_image / 255.0 - mean) / std\n",
        "        input_image = input_image.transpose(2, 0, 1)\n",
        "        input_image = np.expand_dims(input_image, axis=0)\n",
        "        input_image = input_image.astype('float32')\n",
        "\n",
        "        # Inference\n",
        "        input_name = onnx_session.get_inputs()[0].name\n",
        "        output_name = onnx_session.get_outputs()[0].name\n",
        "        result = onnx_session.run([output_name], {input_name: input_image})\n",
        "\n",
        "        # Post process:squeeze, Sigmoid, Normarize, uint8 cast\n",
        "        mask = np.squeeze(result[0])\n",
        "        min_value = np.min(mask)\n",
        "        max_value = np.max(mask)\n",
        "        mask = (mask - min_value) / (max_value - min_value)\n",
        "        if score_th is not None:\n",
        "            mask = np.where(mask < score_th, 0, 1)\n",
        "        mask *= 255\n",
        "        mask = mask.astype('uint8')\n",
        "\n",
        "        return mask\n",
        "\n",
        "    import onnxruntime\n",
        "    onnx_session = onnxruntime.InferenceSession(\n",
        "        'isnet-general-use.onnx',\n",
        "        providers=[\n",
        "            'CUDAExecutionProvider',\n",
        "            'CPUExecutionProvider',\n",
        "        ],\n",
        "    )\n",
        "    mask = run_inference(\n",
        "        onnx_session,\n",
        "        image,\n",
        "        score_th=0.5,\n",
        "    )\n",
        "\n",
        "    mask = cv2.resize(\n",
        "        mask,\n",
        "        dsize=(image.shape[1], image.shape[0]),\n",
        "    )\n",
        "\n",
        "    overlay_image = np.zeros(image.shape, dtype=np.uint8)\n",
        "    overlay_image[:] = (255, 255, 255)\n",
        "    data = np.stack((mask, ) * 3, axis=-1).astype('uint8')\n",
        "    mask_image = np.where(data, image, overlay_image)\n",
        "\n",
        "    # 表示\n",
        "    cv2_imshow(data)\n",
        "    data = cv2.cvtColor(data, cv2.COLOR_BGR2GRAY)\n"
      ],
      "metadata": {
        "id": "PBpfrGs2zLqU"
      },
      "execution_count": 9,
      "outputs": []
    },
    {
      "cell_type": "code",
      "execution_count": 11,
      "metadata": {
        "id": "bxBmGrkbCNoT",
        "colab": {
          "base_uri": "https://localhost:8080/",
          "height": 269
        },
        "outputId": "d63bbfb0-8f78-4a6f-c8fc-a77f23654abf"
      },
      "outputs": [
        {
          "output_type": "display_data",
          "data": {
            "text/plain": [
              "<Figure size 432x288 with 1 Axes>"
            ],
            "image/png": "[encoded data removed]"
          },
          "metadata": {
            "needs_background": "light"
          }
        }
      ],
      "source": [
        "if remove_back=='Midas':\n",
        "    import cv2\n",
        "    import numpy as np\n",
        "\n",
        "    import matplotlib.pyplot as plt\n",
        "    import tensorflow_hub as hub\n",
        "    import tensorflow as tf\n",
        "\n",
        "    module = hub.load(\"https://tfhub.dev/intel/midas/v2_1_small/1\", tags=['serve'])\n",
        "    model = module.signatures['serving_default']\n",
        "\n",
        "\n",
        "    # 画像読み込み\n",
        "    image = cv2.imread('/content/upload.jpg')\n",
        "\n",
        "    # リサイズ\n",
        "    resize_image = cv2.resize(image, (256, 256))\n",
        "\n",
        "    # 正規化\n",
        "    resize_image = cv2.cvtColor(resize_image, cv2.COLOR_BGR2RGB) / 255.0\n",
        "\n",
        "    # 形状変更\n",
        "    resize_image = resize_image.transpose(2, 0, 1)\n",
        "    resize_image = resize_image.reshape(1, 3, 256, 256)\n",
        "\n",
        "    # tensor形式へ変換\n",
        "    tensor = tf.convert_to_tensor(resize_image, dtype=tf.float32)\n",
        "\n",
        "    result = model(tensor)\n",
        "    predict_result = result['default'].numpy()\n",
        "    predict_result = np.squeeze(predict_result)\n",
        "\n",
        "    # オリジナル画像のサイズにリサイズ\n",
        "    predict_result = cv2.resize(predict_result, (image.shape[1], image.shape[0]))\n",
        "\n",
        "    # 最大値が255になるよう変換\n",
        "    depth_max = predict_result.max()\n",
        "    data = ((predict_result / depth_max) * 255).astype(np.uint8)\n",
        "\n",
        "    # カラーマップ画像へ変換\n",
        "    color_map = cv2.applyColorMap(data, cv2.COLORMAP_TURBO)\n",
        "\n",
        "    # 表示\n",
        "    plt.imshow(color_map)"
      ]
    },
    {
      "cell_type": "markdown",
      "metadata": {
        "id": "tpEmhlY4Er2N"
      },
      "source": [
        "線画化\n",
        "\n",
        "必ず実行"
      ]
    },
    {
      "cell_type": "code",
      "execution_count": 12,
      "metadata": {
        "id": "SZ2-AmlMe7Kd"
      },
      "outputs": [],
      "source": [
        "class image_utils:\n",
        "    def median_filter(self, src, ksize):\n",
        "        d = int((ksize-1)/2)\n",
        "        h, w = src.shape[0], src.shape[1]\n",
        "        dst = src.copy()\n",
        "\n",
        "        for y in range(d, h - d):\n",
        "            for x in range(d, w - d):\n",
        "                dst[y][x] = np.median(src[y-d:y+d+1, x-d:x+d+1])\n",
        "        return dst\n",
        "\n",
        "    def export_edges_anime(self, image_raw: np.ndarray, depth_data: np.ndarray, median_ksize: int = 3, morph_g_ksize: int = 3, depth_threshold: int = 150, canny_threshold: int = 150):\n",
        "        mask = depth_data > depth_threshold\n",
        "        # maskを二値化\n",
        "        mask = mask.astype(np.uint8) * 255\n",
        "        # imageとmaskの合成\n",
        "        result = cv2.bitwise_and(image_raw, image_raw, mask=mask)\n",
        "\n",
        "        return self.anime2line(result, median_ksize=median_ksize, morph_g_ksize=morph_g_ksize, threshold=canny_threshold)\n",
        "\n",
        "    def anime2line(self, image_raw: np.ndarray, median_ksize: int = 3, morph_g_ksize: int = 3, threshold: int = 150):\n",
        "        edges = cv2.cvtColor(image_raw, cv2.COLOR_BGR2GRAY)\n",
        "\n",
        "        # Canny輪郭検出\n",
        "        edges = cv2.Canny(edges, threshold, threshold)\n",
        "\n",
        "        # MorphologyEx\n",
        "        if morph_g_ksize == 1:\n",
        "            pass\n",
        "        else:\n",
        "            kernel_giant = np.ones((morph_g_ksize, morph_g_ksize), np.uint8)\n",
        "            edges = cv2.morphologyEx(edges, cv2.MORPH_GRADIENT, kernel_giant)\n",
        "\n",
        "        # 色の反転\n",
        "        edges = cv2.bitwise_not(edges)\n",
        "        edges = edges.astype(np.uint8) * 255 * 255\n",
        "        edges = cv2.cvtColor(edges, cv2.COLOR_GRAY2BGR)\n",
        "\n",
        "        # メディアンフィルタ\n",
        "        if median_ksize == 1:\n",
        "            pass\n",
        "        else:\n",
        "            edges = self.median_filter(edges, ksize=median_ksize)\n",
        "\n",
        "        ret, output = cv2.threshold(edges, 200, 255, cv2.THRESH_BINARY)\n",
        "        return edges\n",
        "\n",
        "    # 白を透明にして色付きを半透明の白にする\n",
        "    def white2transparent(self, input_image: np.ndarray, os_type: str = 'Ubuntu'):\n",
        "        if os_type == 'Ubuntu':\n",
        "            image_png = cv2.cvtColor(input_image, cv2.COLOR_RGB2RGBA)\n",
        "            for i in range(image_png.shape[0]):\n",
        "                for j in range(image_png.shape[1]):\n",
        "                    if image_png[i][j][0] == 255 and image_png[i][j][1] == 255 and image_png[i][j][2] == 255:\n",
        "                        image_png[i][j][3] = 0\n",
        "                    else:\n",
        "                        image_png[i][j][0] = 255\n",
        "                        image_png[i][j][1] = 200\n",
        "                        image_png[i][j][2] = 255\n",
        "                        image_png[i][j][3] = 200\n",
        "        elif os_type == 'Windows':\n",
        "            image_png = cv2.cvtColor(input_image, cv2.COLOR_RGB2RGBA)\n",
        "            for i in range(image_png.shape[0]):\n",
        "                for j in range(image_png.shape[1]):\n",
        "                    if image_png[i][j][0] == 255 and image_png[i][j][1] == 255 and image_png[i][j][2] == 255:\n",
        "                        image_png[i][j][3] = 0\n",
        "                    else:\n",
        "                        image_png[i][j][0] = 200\n",
        "                        image_png[i][j][1] = 255\n",
        "                        image_png[i][j][2] = 255\n",
        "                        image_png[i][j][3] = 200\n",
        "        elif os_type == 'Mac-White':\n",
        "            image_png = cv2.cvtColor(input_image, cv2.COLOR_RGB2RGBA)\n",
        "            for i in range(image_png.shape[0]):\n",
        "                for j in range(image_png.shape[1]):\n",
        "                    if image_png[i][j][0] == 255 and image_png[i][j][1] == 255 and image_png[i][j][2] == 255:\n",
        "                        image_png[i][j][3] = 0\n",
        "                    else:\n",
        "                        image_png[i][j][0] = 200\n",
        "                        image_png[i][j][1] = 200\n",
        "                        image_png[i][j][2] = 200\n",
        "                        image_png[i][j][3] = 200\n",
        "        elif os_type == 'Mac-Gray':\n",
        "            image_png = cv2.cvtColor(input_image, cv2.COLOR_RGB2RGBA)\n",
        "            for i in range(image_png.shape[0]):\n",
        "                for j in range(image_png.shape[1]):\n",
        "                    if image_png[i][j][0] == 255 and image_png[i][j][1] == 255 and image_png[i][j][2] == 255:\n",
        "                        image_png[i][j][3] = 0\n",
        "                    else:\n",
        "                        image_png[i][j][0] = 70\n",
        "                        image_png[i][j][1] = 70\n",
        "                        image_png[i][j][2] = 70\n",
        "                        image_png[i][j][3] = 200\n",
        "        else:\n",
        "            print(\"cannot detect wallpaper OS\")\n",
        "        return image_png"
      ]
    },
    {
      "cell_type": "markdown",
      "metadata": {
        "id": "5alWTXyxE4io"
      },
      "source": [
        "線画化２"
      ]
    },
    {
      "cell_type": "markdown",
      "metadata": {
        "id": "2ambD4SrfxEs"
      },
      "source": [
        "## Informative-drawings\n",
        "ファイルのダウンロード作業。スキップするほどでもないですが、ダウンロードを行わない場合はこの工程をスキップしてください。"
      ]
    },
    {
      "cell_type": "code",
      "execution_count": 13,
      "metadata": {
        "colab": {
          "base_uri": "https://localhost:8080/"
        },
        "id": "iSLLrAFuE6aE",
        "outputId": "5e25a5d2-75a6-4f64-f56e-6939200bc8c3"
      },
      "outputs": [
        {
          "output_type": "stream",
          "name": "stdout",
          "text": [
            "Cloning into 'informative-drawings'...\n",
            "remote: Enumerating objects: 101, done.\u001b[K\n",
            "remote: Counting objects: 100% (28/28), done.\u001b[K\n",
            "remote: Compressing objects: 100% (17/17), done.\u001b[K\n",
            "remote: Total 101 (delta 21), reused 12 (delta 11), pack-reused 73\u001b[K\n",
            "Receiving objects: 100% (101/101), 3.86 MiB | 5.38 MiB/s, done.\n",
            "Resolving deltas: 100% (39/39), done.\n",
            "/content/DIS/IS-Net/informative-drawings\n",
            "Downloading...\n",
            "From: https://drive.google.com/uc?id=11l5u5sb1PO5Z5YA3IoEHauVPm0k407C1\n",
            "To: /content/DIS/IS-Net/informative-drawings/model.zip\n",
            "100% 47.7M/47.7M [00:00<00:00, 52.2MB/s]\n",
            "Archive:  model.zip\n",
            "   creating: checkpoints/model/\n",
            "   creating: checkpoints/model/contour_style/\n",
            "  inflating: checkpoints/model/contour_style/netG_A_latest.pth  \n",
            "   creating: checkpoints/model/opensketch_style/\n",
            "  inflating: checkpoints/model/opensketch_style/.DS_Store  \n",
            "  inflating: checkpoints/model/opensketch_style/netG_A_latest.pth  \n",
            "   creating: checkpoints/model/anime_style/\n",
            "  inflating: checkpoints/model/anime_style/netG_A_latest.pth  \n"
          ]
        }
      ],
      "source": [
        "!git clone https://github.com/carolineec/informative-drawings\n",
        "%cd informative-drawings\n",
        "\n",
        "!mkdir checkpoints\n",
        "!gdown 'https://drive.google.com/uc?id=11l5u5sb1PO5Z5YA3IoEHauVPm0k407C1'\n",
        "!unzip model.zip -d checkpoints"
      ]
    },
    {
      "cell_type": "code",
      "execution_count": 14,
      "metadata": {
        "id": "L5wMeGH-FPTV"
      },
      "outputs": [],
      "source": [
        "import os\n",
        "\n",
        "import torch\n",
        "from model import Generator\n",
        "\n",
        "import onnxruntime\n",
        "import cv2 as cv\n",
        "import numpy as np\n",
        "\n",
        "input_size = 512\n",
        "# ドットアクセス用の辞書クラス\n",
        "class DictDotNotation(dict): \n",
        "    def __init__(self, *args, **kwargs): \n",
        "        super().__init__(*args, **kwargs) \n",
        "        self.__dict__ = self\n",
        "# 疑似的なコマンドライン引数生成\n",
        "\n",
        "class InformativeDrawings:\n",
        "    def create_options(self) -> DictDotNotation:\n",
        "        opt = DictDotNotation()\n",
        "\n",
        "        opt.name = 'model/anime_style'\n",
        "        opt.dataroot = 'examples/test'\n",
        "        opt.checkpoints_dir = 'checkpoints'\n",
        "        opt.results_dir = 'results'\n",
        "        opt.geom_name = 'feats2Geom'\n",
        "        opt.batchSize = 1\n",
        "        opt.depthroot = ''\n",
        "        opt.input_nc = 3\n",
        "        opt.output_nc = 1\n",
        "        opt.geom_nc = 3\n",
        "        opt.every_feat = 1\n",
        "        opt.num_classes = 55\n",
        "        opt.midas = 0\n",
        "        opt.ngf = 64\n",
        "        opt.n_blocks = 3\n",
        "        opt.size = input_size\n",
        "        opt.cuda = True\n",
        "        opt.n_cpu = 8\n",
        "        opt.which_epoch = 'latest'\n",
        "        opt.aspect_ratio = 1.0\n",
        "        opt.mode = 'test'\n",
        "        opt.load_size = input_size\n",
        "        opt.crop_size = input_size\n",
        "        opt.max_dataset_size = float(\"inf\")\n",
        "        opt.preprocess = 'resize_and_crop'\n",
        "        opt.no_flip = False\n",
        "        opt.norm = 'instance'\n",
        "        opt.predict_depth = 0\n",
        "        opt.save_input = 0\n",
        "        opt.reconstruct = 0\n",
        "        opt.how_many = 100\n",
        "        return opt\n",
        "\n",
        "    def convert_to_onnx(self, net, file_name='output.onnx', input_shape=(512, 512), device='cpu'):\n",
        "        input = torch.randn(1, 3, input_shape[0], input_shape[1]).to(device)\n",
        "\n",
        "        input_layer_names = ['input_image']\n",
        "        output_layer_names = ['output_image']\n",
        "\n",
        "        torch.onnx.export(\n",
        "            net, \n",
        "            input, \n",
        "            file_name, \n",
        "            verbose=True,\n",
        "            opset_version=11,\n",
        "            input_names=input_layer_names,\n",
        "            output_names=output_layer_names,\n",
        "        )\n",
        "    \n",
        "    def export_edges_anime(self, image_raw: np.ndarray, depth_data: np.ndarray, morph_g_ksize: int = 3, depth_threshold: int = 150) -> np.ndarray:\n",
        "        mask = depth_data > depth_threshold\n",
        "        # maskを二値化\n",
        "        mask = mask.astype(np.uint8) * 255\n",
        "        # imageとmaskの合成\n",
        "        result = cv2.bitwise_and(image_raw, image_raw, mask=mask)\n",
        "\n",
        "        return self.generate(result, morph_g_ksize)\n",
        "\n",
        "    def generate(self, input_image, morph_g_ksize) -> np.ndarray:\n",
        "\n",
        "        # ネットワーク生成\n",
        "        opt = self.create_options()\n",
        "        net_G = Generator(opt.input_nc, opt.output_nc, opt.n_blocks)\n",
        "\n",
        "        # 重みをロード\n",
        "        net_G.load_state_dict(torch.load(os.path.join(opt.checkpoints_dir, opt.name, 'netG_A_%s.pth' % opt.which_epoch)))\n",
        "        device = 'cpu'\n",
        "        net_G.eval().to(device)\n",
        "\n",
        "        print('Loaded：', os.path.join(opt.checkpoints_dir, opt.name, 'netG_A_%s.pth' % opt.which_epoch))\n",
        "\n",
        "        self.convert_to_onnx(net_G, 'anime_style_512x512.onnx', (input_size, input_size), device)\n",
        "\n",
        "        # ONNXモデルロード\n",
        "        onnx_session = onnxruntime.InferenceSession(\n",
        "            'anime_style_512x512.onnx',\n",
        "            providers=['CUDAExecutionProvider', 'CPUExecutionProvider'],\n",
        "        )\n",
        "\n",
        "        input_name = onnx_session.get_inputs()[0].name\n",
        "        output_name = onnx_session.get_outputs()[0].name\n",
        "\n",
        "\n",
        "        # 前処理 (input is image)\n",
        "        image_data = cv.resize(input_image, dsize=(input_size, input_size))\n",
        "        x = cv.cvtColor(image_data, cv.COLOR_BGR2RGB)\n",
        "\n",
        "        x = np.array(x, dtype=np.float32)\n",
        "        x = x.transpose(2, 0, 1)\n",
        "        x = x.reshape(-1, 3, input_size, input_size)\n",
        "\n",
        "        # 推論\n",
        "        onnx_result = onnx_session.run([output_name], {input_name: x})\n",
        "\n",
        "        # 後処理\n",
        "        onnx_result = np.array(onnx_result).squeeze()\n",
        "        onnx_result = onnx_result * 255\n",
        "        onnx_result = onnx_result.astype(np.uint8)\n",
        "\n",
        "        \n",
        "        ret, output = cv2.threshold(onnx_result, 200, 255, cv2.THRESH_BINARY)\n",
        "\n",
        "        # kernel_giant = np.ones((morph_g_ksize, morph_g_ksize), np.uint8)\n",
        "        # output = cv2.morphologyEx(output, cv2.MORPH_GRADIENT, kernel_giant)\n",
        "\n",
        "\n",
        "        output = cv2.cvtColor(output, cv2.COLOR_GRAY2BGR)\n",
        "        output = cv2.resize(output, (image.shape[1],image.shape[0]))\n",
        "        return output\n",
        "    \n"
      ]
    },
    {
      "cell_type": "code",
      "execution_count": 15,
      "metadata": {
        "colab": {
          "base_uri": "https://localhost:8080/"
        },
        "id": "akicp1XSYg7C",
        "outputId": "672eaf24-7647-44e1-c42d-26132064e01c"
      },
      "outputs": [
        {
          "output_type": "stream",
          "name": "stdout",
          "text": [
            "using informative drawings...\n",
            "Loaded： checkpoints/model/anime_style/netG_A_latest.pth\n"
          ]
        },
        {
          "output_type": "stream",
          "name": "stderr",
          "text": [
            "/usr/local/lib/python3.8/dist-packages/torch/onnx/_internal/jit_utils.py:258: UserWarning: Constant folding - Only steps=1 can be constant folded for opset >= 10 onnx::Slice op. Constant folding not applied. (Triggered internally at ../torch/csrc/jit/passes/onnx/constant_fold.cpp:179.)\n",
            "  _C._jit_pass_onnx_node_shape_type_inference(node, params_dict, opset_version)\n",
            "/usr/local/lib/python3.8/dist-packages/torch/onnx/symbolic_helper.py:1457: UserWarning: ONNX export mode is set to TrainingMode.EVAL, but operator 'instance_norm' is set to train=True. Exporting with train=True.\n",
            "  warnings.warn(\n",
            "/usr/local/lib/python3.8/dist-packages/torch/onnx/utils.py:687: UserWarning: Constant folding - Only steps=1 can be constant folded for opset >= 10 onnx::Slice op. Constant folding not applied. (Triggered internally at ../torch/csrc/jit/passes/onnx/constant_fold.cpp:179.)\n",
            "  _C._jit_pass_onnx_graph_shape_type_inference(\n",
            "/usr/local/lib/python3.8/dist-packages/torch/onnx/utils.py:1178: UserWarning: Constant folding - Only steps=1 can be constant folded for opset >= 10 onnx::Slice op. Constant folding not applied. (Triggered internally at ../torch/csrc/jit/passes/onnx/constant_fold.cpp:179.)\n",
            "  _C._jit_pass_onnx_graph_shape_type_inference(\n",
            "/usr/local/lib/python3.8/dist-packages/onnxruntime/capi/onnxruntime_inference_collection.py:54: UserWarning: Specified provider 'CUDAExecutionProvider' is not in available provider names.Available providers: 'CPUExecutionProvider'\n",
            "  warnings.warn(\n"
          ]
        }
      ],
      "source": [
        "image_utils_class = image_utils()\n",
        "\n",
        "if using_informative_drawings == \"True\":\n",
        "    print(\"using informative drawings...\")\n",
        "    id_class = InformativeDrawings()\n",
        "    image_line = id_class.export_edges_anime(image, depth_data=data, morph_g_ksize=morph_g_ksize, depth_threshold=depth_threshold)\n",
        "else:\n",
        "    print(\"using canny...\")\n",
        "    image_line = image_utils_class.export_edges_anime(image_raw=image, depth_data=data, median_ksize=median_ksize, morph_g_ksize=morph_g_ksize, depth_threshold=depth_threshold, canny_threshold=canny_threshold)\n",
        "#@markdown ## export_edges_anime関数\n",
        "#@markdown ### 引数一覧\n",
        "#@markdown - image_raw: 画像（読み込み時のまま）\n",
        "#@markdown - depth_data: 深度データ(2次元のndarray・0~255)\n",
        "#@markdown - threshold: 深度の閾値（0~255・int型）\n",
        "#@markdown\n",
        "#@markdown ### 出力一覧\n",
        "#@markdown - image: マスク済み画像\n",
        "#@markdown\n",
        "#@markdown ### 分岐\n",
        "#@markdown - informative drawings をTrueに設定するとAI線画に、FalseにするとCanny線画になります。"
      ]
    },
    {
      "cell_type": "code",
      "execution_count": 16,
      "metadata": {
        "id": "q-H83_5UJC54"
      },
      "outputs": [],
      "source": [
        "image_png = image_utils_class.white2transparent(image_line, OS)\n",
        "\n",
        "#@markdown ## white2transparent関数\n",
        "#@markdown 白領域を透明化する関数（色付きは半透明の白になります）"
      ]
    },
    {
      "cell_type": "code",
      "execution_count": 17,
      "metadata": {
        "colab": {
          "base_uri": "https://localhost:8080/",
          "height": 286
        },
        "id": "3pANOWzibWpL",
        "outputId": "c93d9ac7-0700-4497-b195-bda6846323cf"
      },
      "outputs": [
        {
          "output_type": "execute_result",
          "data": {
            "text/plain": [
              "<matplotlib.image.AxesImage at 0x7efe78875ca0>"
            ]
          },
          "metadata": {},
          "execution_count": 17
        },
        {
          "output_type": "display_data",
          "data": {
            "text/plain": [
              "<Figure size 432x288 with 1 Axes>"
            ],
            "image/png": "[encoded data removed]"
          },
          "metadata": {
            "needs_background": "light"
          }
        }
      ],
      "source": [
        "plt.imshow(image_png)"
      ]
    },
    {
      "cell_type": "code",
      "execution_count": 18,
      "metadata": {
        "colab": {
          "base_uri": "https://localhost:8080/",
          "height": 17
        },
        "id": "Kg-Zb97tdjBe",
        "outputId": "fd103c93-959f-479b-a1de-7ef673a90cc9"
      },
      "outputs": [
        {
          "output_type": "display_data",
          "data": {
            "text/plain": [
              "<IPython.core.display.Javascript object>"
            ],
            "application/javascript": [
              "\n",
              "    async function download(id, filename, size) {\n",
              "      if (!google.colab.kernel.accessAllowed) {\n",
              "        return;\n",
              "      }\n",
              "      const div = document.createElement('div');\n",
              "      const label = document.createElement('label');\n",
              "      label.textContent = `Downloading \"${filename}\": `;\n",
              "      div.appendChild(label);\n",
              "      const progress = document.createElement('progress');\n",
              "      progress.max = size;\n",
              "      div.appendChild(progress);\n",
              "      document.body.appendChild(div);\n",
              "\n",
              "      const buffers = [];\n",
              "      let downloaded = 0;\n",
              "\n",
              "      const channel = await google.colab.kernel.comms.open(id);\n",
              "      // Send a message to notify the kernel that we're ready.\n",
              "      channel.send({})\n",
              "\n",
              "      for await (const message of channel.messages) {\n",
              "        // Send a message to notify the kernel that we're ready.\n",
              "        channel.send({})\n",
              "        if (message.buffers) {\n",
              "          for (const buffer of message.buffers) {\n",
              "            buffers.push(buffer);\n",
              "            downloaded += buffer.byteLength;\n",
              "            progress.value = downloaded;\n",
              "          }\n",
              "        }\n",
              "      }\n",
              "      const blob = new Blob(buffers, {type: 'application/binary'});\n",
              "      const a = document.createElement('a');\n",
              "      a.href = window.URL.createObjectURL(blob);\n",
              "      a.download = filename;\n",
              "      div.appendChild(a);\n",
              "      a.click();\n",
              "      div.remove();\n",
              "    }\n",
              "  "
            ]
          },
          "metadata": {}
        },
        {
          "output_type": "display_data",
          "data": {
            "text/plain": [
              "<IPython.core.display.Javascript object>"
            ],
            "application/javascript": [
              "download(\"download_ef2b2153-0fd9-46aa-92a5-23775e7d6d00\", \"result.png\", 19094)"
            ]
          },
          "metadata": {}
        }
      ],
      "source": [
        "plt.imsave(\"/content/result.png\",image_png)\n",
        "from google.colab import files\n",
        "files.download('/content/result.png')"
      ]
    },
    {
      "cell_type": "code",
      "execution_count": 19,
      "metadata": {
        "id": "nU4eubO3EveY"
      },
      "outputs": [],
      "source": [
        "# Export depth\n",
        "#@markdown convert.pyで深度情報を確認する時はこのセルを実行して`depth_result.png`をダウンロードします。\n",
        "\n",
        "# # v----この行以下をコメントアウト--------v\n",
        "# export_png = np.zeros((data.shape[0], data.shape[1], 3))\n",
        "# export_png[:,:,0] = data/255\n",
        "# export_png[:,:,1] = data/255\n",
        "# export_png[:,:,2] = data/255\n",
        "\n",
        "# plt.imsave(\"/content/depth_result.png\",export_png)\n",
        "# files.download('depth_result.png')"
      ]
    }
  ],
  "metadata": {
    "accelerator": "GPU",
    "colab": {
      "provenance": []
    },
    "kernelspec": {
      "display_name": "Python 3.10.6 64-bit ('3.10.6')",
      "language": "python",
      "name": "python3"
    },
    "language_info": {
      "name": "python",
      "version": "3.10.6"
    },
    "vscode": {
      "interpreter": {
        "hash": "b4befac3e56e39e73ea575fd36aeeafdc8ef41834eee22ae63e330239ebc486c"
      }
    },
    "gpuClass": "standard"
  },
  "nbformat": 4,
  "nbformat_minor": 0
}
