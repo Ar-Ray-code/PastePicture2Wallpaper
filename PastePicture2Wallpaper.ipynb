{
  "cells": [
    {
      "cell_type": "markdown",
      "metadata": {
        "id": "SwUzOv_YJ5c_"
      },
      "source": [
        "# PastePicture2Wallpaper　\n",
        "\n",
        "壁紙作成のための線画作成ツールです🎠\n",
        "\n",
        "<br>\n",
        "\n",
        "処理手順\n",
        "1. 深度閾値に従ってMidasを用いた単眼深度推定を行います\n",
        "2. Canny法による線画抽出を行います(線画化過程でノイズ除去や線を太くするなどの処理を行っています)\n",
        "3. OSの雰囲気に応じて半透明化した線画を出力します（result.pngという名前で出力されます）\n",
        "\n",
        "<br>\n",
        "\n",
        "🆕 : informative_drawingsが有効になりました。（デフォルト：True）\n",
        "\n",
        "informative_drawingsはAIによって線画抽出を行います。\n",
        "\n",
        "- median_k_sizeとmodeのオプションは無視されます。\n",
        "\n",
        "<br>\n",
        "\n",
        "以下のパラメータで値を弄ってください\n",
        "\n",
        "\n",
        "<!-- - image_upload_option: 画像をアップロードする方法 -->\n",
        "  <!-- - `Upload from device`: デバイスからアップロード -->\n",
        "  <!-- - `URL`: URLからダウンロード -->\n",
        "  <!-- - `Mount Drive`: Google Driveのマウントを行う -->\n",
        "<!-- - path_or_url: ダウンロード先のURLかマウント先のデバイスのパスを指定(Upload from devieの場合は無視されます) -->\n",
        "- mode: 線画処理のモード\n",
        "  - Anime : アニメ風の輪郭がはっきりとしている画像向け\n",
        "- OS: 壁紙のOSの種類によって出力される線画の雰囲気が少し変わります\n",
        "  - Mac風(灰色):パステルカラーの背景に合わせて半透明の灰色線画を出力\n",
        "  - Mac風(白色):鮮やかな背景に半透明の白線画を出力\n",
        "  - Windows風: 水色の背景にさらに明るい水色半透明の線画を出力\n",
        "  - Ubuntu風: 紫-桃色の背景に馴染む桃色半透明の線画を出力\n",
        "- median_k_size: 細かなノイズを除去します。1の場合、無効化します。\n",
        "- morph_g_ksize: モロフォジー変換用カーネルサイズ。膨張した画像と収縮した画像の差分をとる処理を行い、物体の輪郭を得ます。1の場合は無効化します。\n",
        "- depth_threshold: 出力された深度情報をもとに線画化するための閾値\n",
        "\n",
        "\n",
        "\n",
        "![](https://raw.githubusercontent.com/Ar-Ray-code/PastePicture2Wallpaper/main/images_for_readme/export-variation.png)\n",
        "\n",
        "> デバイスからのアップロードのみ受け付けています\n",
        "> \n",
        "> 直接URLを指定する場合は4番目のコードセルのURLを変更してコメントアウトを外し、以降のセルを実行（Ctrl+F10） を行ってください"
      ]
    },
    {
      "cell_type": "code",
      "execution_count": 150,
      "metadata": {
        "id": "9UIXNyyXdKaO"
      },
      "outputs": [],
      "source": [
        "# image_upload_option = 'Upload from device' #@param [\"Upload from device\", \"URL\", \"Mount Drive\"] {allow-input: true}\n",
        "# path_or_url = \"/content/sample.jpg\"#@param {type:\"string\"}\n",
        "\n",
        "mode = 'Anime' #@param [\"Anime\"] {allow-input: true}\n",
        "OS =  'Mac-Gray' #@param [\"Ubuntu\",\"Windows\",\"Mac-White\",\"Mac-Gray\"] {allow-input: true}\n",
        "using_informative_drawings = \"True\" #@param [\"True\", \"False\"] {allow-input: true}\n",
        "\n",
        "# median_ksize=median_ksize, morph_g_ksize=morph_g_ksize\n",
        "\n",
        "median_ksize = 5 #@param {type:\"slider\", min:1, max:9, step:2}\n",
        "morph_g_ksize = 5 #@param {type:\"slider\", min:1, max:9, step:2}\n",
        "depth_threshold = 150 #@param {type:\"slider\", min:0, max:255, step:1}\n",
        "canny_threshold = 150 #@param {type:\"slider\", min:0, max:255, step:1}"
      ]
    },
    {
      "cell_type": "code",
      "execution_count": 2,
      "metadata": {
        "cellView": "form",
        "colab": {
          "base_uri": "https://localhost:8080/",
          "height": 78
        },
        "id": "8PbJjVsrTrzK",
        "outputId": "acd2f2db-6945-46f6-dd61-2ec26364e0a3"
      },
      "outputs": [
        {
          "data": {
            "text/html": [
              "\n",
              "     <input type=\"file\" id=\"files-58d45d7e-35ed-4ecf-9983-f60436e7589b\" name=\"files[]\" multiple disabled\n",
              "        style=\"border:none\" />\n",
              "     <output id=\"result-58d45d7e-35ed-4ecf-9983-f60436e7589b\">\n",
              "      Upload widget is only available when the cell has been executed in the\n",
              "      current browser session. Please rerun this cell to enable.\n",
              "      </output>\n",
              "      <script>// Copyright 2017 Google LLC\n",
              "//\n",
              "// Licensed under the Apache License, Version 2.0 (the \"License\");\n",
              "// you may not use this file except in compliance with the License.\n",
              "// You may obtain a copy of the License at\n",
              "//\n",
              "//      http://www.apache.org/licenses/LICENSE-2.0\n",
              "//\n",
              "// Unless required by applicable law or agreed to in writing, software\n",
              "// distributed under the License is distributed on an \"AS IS\" BASIS,\n",
              "// WITHOUT WARRANTIES OR CONDITIONS OF ANY KIND, either express or implied.\n",
              "// See the License for the specific language governing permissions and\n",
              "// limitations under the License.\n",
              "\n",
              "/**\n",
              " * @fileoverview Helpers for google.colab Python module.\n",
              " */\n",
              "(function(scope) {\n",
              "function span(text, styleAttributes = {}) {\n",
              "  const element = document.createElement('span');\n",
              "  element.textContent = text;\n",
              "  for (const key of Object.keys(styleAttributes)) {\n",
              "    element.style[key] = styleAttributes[key];\n",
              "  }\n",
              "  return element;\n",
              "}\n",
              "\n",
              "// Max number of bytes which will be uploaded at a time.\n",
              "const MAX_PAYLOAD_SIZE = 100 * 1024;\n",
              "\n",
              "function _uploadFiles(inputId, outputId) {\n",
              "  const steps = uploadFilesStep(inputId, outputId);\n",
              "  const outputElement = document.getElementById(outputId);\n",
              "  // Cache steps on the outputElement to make it available for the next call\n",
              "  // to uploadFilesContinue from Python.\n",
              "  outputElement.steps = steps;\n",
              "\n",
              "  return _uploadFilesContinue(outputId);\n",
              "}\n",
              "\n",
              "// This is roughly an async generator (not supported in the browser yet),\n",
              "// where there are multiple asynchronous steps and the Python side is going\n",
              "// to poll for completion of each step.\n",
              "// This uses a Promise to block the python side on completion of each step,\n",
              "// then passes the result of the previous step as the input to the next step.\n",
              "function _uploadFilesContinue(outputId) {\n",
              "  const outputElement = document.getElementById(outputId);\n",
              "  const steps = outputElement.steps;\n",
              "\n",
              "  const next = steps.next(outputElement.lastPromiseValue);\n",
              "  return Promise.resolve(next.value.promise).then((value) => {\n",
              "    // Cache the last promise value to make it available to the next\n",
              "    // step of the generator.\n",
              "    outputElement.lastPromiseValue = value;\n",
              "    return next.value.response;\n",
              "  });\n",
              "}\n",
              "\n",
              "/**\n",
              " * Generator function which is called between each async step of the upload\n",
              " * process.\n",
              " * @param {string} inputId Element ID of the input file picker element.\n",
              " * @param {string} outputId Element ID of the output display.\n",
              " * @return {!Iterable<!Object>} Iterable of next steps.\n",
              " */\n",
              "function* uploadFilesStep(inputId, outputId) {\n",
              "  const inputElement = document.getElementById(inputId);\n",
              "  inputElement.disabled = false;\n",
              "\n",
              "  const outputElement = document.getElementById(outputId);\n",
              "  outputElement.innerHTML = '';\n",
              "\n",
              "  const pickedPromise = new Promise((resolve) => {\n",
              "    inputElement.addEventListener('change', (e) => {\n",
              "      resolve(e.target.files);\n",
              "    });\n",
              "  });\n",
              "\n",
              "  const cancel = document.createElement('button');\n",
              "  inputElement.parentElement.appendChild(cancel);\n",
              "  cancel.textContent = 'Cancel upload';\n",
              "  const cancelPromise = new Promise((resolve) => {\n",
              "    cancel.onclick = () => {\n",
              "      resolve(null);\n",
              "    };\n",
              "  });\n",
              "\n",
              "  // Wait for the user to pick the files.\n",
              "  const files = yield {\n",
              "    promise: Promise.race([pickedPromise, cancelPromise]),\n",
              "    response: {\n",
              "      action: 'starting',\n",
              "    }\n",
              "  };\n",
              "\n",
              "  cancel.remove();\n",
              "\n",
              "  // Disable the input element since further picks are not allowed.\n",
              "  inputElement.disabled = true;\n",
              "\n",
              "  if (!files) {\n",
              "    return {\n",
              "      response: {\n",
              "        action: 'complete',\n",
              "      }\n",
              "    };\n",
              "  }\n",
              "\n",
              "  for (const file of files) {\n",
              "    const li = document.createElement('li');\n",
              "    li.append(span(file.name, {fontWeight: 'bold'}));\n",
              "    li.append(span(\n",
              "        `(${file.type || 'n/a'}) - ${file.size} bytes, ` +\n",
              "        `last modified: ${\n",
              "            file.lastModifiedDate ? file.lastModifiedDate.toLocaleDateString() :\n",
              "                                    'n/a'} - `));\n",
              "    const percent = span('0% done');\n",
              "    li.appendChild(percent);\n",
              "\n",
              "    outputElement.appendChild(li);\n",
              "\n",
              "    const fileDataPromise = new Promise((resolve) => {\n",
              "      const reader = new FileReader();\n",
              "      reader.onload = (e) => {\n",
              "        resolve(e.target.result);\n",
              "      };\n",
              "      reader.readAsArrayBuffer(file);\n",
              "    });\n",
              "    // Wait for the data to be ready.\n",
              "    let fileData = yield {\n",
              "      promise: fileDataPromise,\n",
              "      response: {\n",
              "        action: 'continue',\n",
              "      }\n",
              "    };\n",
              "\n",
              "    // Use a chunked sending to avoid message size limits. See b/62115660.\n",
              "    let position = 0;\n",
              "    do {\n",
              "      const length = Math.min(fileData.byteLength - position, MAX_PAYLOAD_SIZE);\n",
              "      const chunk = new Uint8Array(fileData, position, length);\n",
              "      position += length;\n",
              "\n",
              "      const base64 = btoa(String.fromCharCode.apply(null, chunk));\n",
              "      yield {\n",
              "        response: {\n",
              "          action: 'append',\n",
              "          file: file.name,\n",
              "          data: base64,\n",
              "        },\n",
              "      };\n",
              "\n",
              "      let percentDone = fileData.byteLength === 0 ?\n",
              "          100 :\n",
              "          Math.round((position / fileData.byteLength) * 100);\n",
              "      percent.textContent = `${percentDone}% done`;\n",
              "\n",
              "    } while (position < fileData.byteLength);\n",
              "  }\n",
              "\n",
              "  // All done.\n",
              "  yield {\n",
              "    response: {\n",
              "      action: 'complete',\n",
              "    }\n",
              "  };\n",
              "}\n",
              "\n",
              "scope.google = scope.google || {};\n",
              "scope.google.colab = scope.google.colab || {};\n",
              "scope.google.colab._files = {\n",
              "  _uploadFiles,\n",
              "  _uploadFilesContinue,\n",
              "};\n",
              "})(self);\n",
              "</script> "
            ],
            "text/plain": [
              "<IPython.core.display.HTML object>"
            ]
          },
          "metadata": {},
          "output_type": "display_data"
        },
        {
          "name": "stdout",
          "output_type": "stream",
          "text": [
            "Saving urara-toresen.jpg to urara-toresen.jpg\n"
          ]
        }
      ],
      "source": [
        "# Upload from device\n",
        "from google.colab import files\n",
        "uploaded = files.upload()\n",
        "\n",
        "#@markdown ### アップロードを (Choose Files)から行ってください\n",
        "#@markdown Driveのマウントの場合はこのステップを飛ばして、新しくコードセルを作成して、`/content`に対象ファイルをコピーしてください\n",
        "\n",
        "# from google.colab import drive\n",
        "# drive.mount('/content/drive')"
      ]
    },
    {
      "cell_type": "code",
      "execution_count": null,
      "metadata": {
        "cellView": "form",
        "id": "maDiodVfAc1F"
      },
      "outputs": [],
      "source": [
        "#@markdown ###URLを指定する場合はこちらを編集し、upload.jpgで保存すること\n",
        "# !rm sample.jpg\n",
        "# !wget \"https://drive.google.com/uc?export=download&id=1M1eDdinWr-aPT28cyOo01LlMFUnsBbRQ\" -O upload.jpg"
      ]
    },
    {
      "cell_type": "code",
      "execution_count": null,
      "metadata": {
        "id": "LofUpIu2f2bJ"
      },
      "outputs": [],
      "source": [
        "!ffmpeg -i *.png upload.jpg\n",
        "!ffmpeg -i *.jpg upload.jpg"
      ]
    },
    {
      "cell_type": "code",
      "execution_count": null,
      "metadata": {
        "id": "Z81Rg6PoAhDc"
      },
      "outputs": [],
      "source": [
        "!pip install tensorflow==2.8.0 tensorflow-hub==0.12.0 onnxruntime"
      ]
    },
    {
      "cell_type": "code",
      "execution_count": 6,
      "metadata": {
        "id": "03GuyT13CK4Y"
      },
      "outputs": [],
      "source": [
        "import cv2\n",
        "import numpy as np\n",
        "\n",
        "import matplotlib.pyplot as plt\n",
        "import tensorflow_hub as hub\n",
        "\n",
        "module = hub.load(\"https://tfhub.dev/intel/midas/v2_1_small/1\", tags=['serve'])\n",
        "model = module.signatures['serving_default']"
      ]
    },
    {
      "cell_type": "code",
      "execution_count": 7,
      "metadata": {
        "id": "bxBmGrkbCNoT"
      },
      "outputs": [],
      "source": [
        "import tensorflow as tf\n",
        "\n",
        "# 画像読み込み\n",
        "image = cv2.imread('/content/upload.jpg')\n",
        "\n",
        "# リサイズ\n",
        "resize_image = cv2.resize(image, (256, 256))\n",
        "\n",
        "# 正規化\n",
        "resize_image = cv2.cvtColor(resize_image, cv2.COLOR_BGR2RGB) / 255.0\n",
        "\n",
        "# 形状変更\n",
        "resize_image = resize_image.transpose(2, 0, 1)\n",
        "resize_image = resize_image.reshape(1, 3, 256, 256)\n",
        "\n",
        "# tensor形式へ変換\n",
        "tensor = tf.convert_to_tensor(resize_image, dtype=tf.float32)"
      ]
    },
    {
      "cell_type": "code",
      "execution_count": 8,
      "metadata": {
        "id": "rtxt6M8KCPG5"
      },
      "outputs": [],
      "source": [
        "result = model(tensor)\n",
        "predict_result = result['default'].numpy()\n",
        "predict_result = np.squeeze(predict_result)"
      ]
    },
    {
      "cell_type": "code",
      "execution_count": 9,
      "metadata": {
        "colab": {
          "base_uri": "https://localhost:8080/",
          "height": 287
        },
        "id": "mEoF2RQECR0D",
        "outputId": "fd415efa-d431-4fa8-87a1-a5e6623c10f0"
      },
      "outputs": [
        {
          "data": {
            "text/plain": [
              "<matplotlib.image.AxesImage at 0x7ff259e81690>"
            ]
          },
          "execution_count": 9,
          "metadata": {},
          "output_type": "execute_result"
        },
        {
          "data": {
            "image/png": "[encoded data removed]",
            "text/plain": [
              "<Figure size 432x288 with 1 Axes>"
            ]
          },
          "metadata": {
            "needs_background": "light"
          },
          "output_type": "display_data"
        }
      ],
      "source": [
        "# オリジナル画像のサイズにリサイズ\n",
        "predict_result = cv2.resize(predict_result, (image.shape[1], image.shape[0]))\n",
        "\n",
        "# 最大値が255になるよう変換\n",
        "depth_max = predict_result.max()\n",
        "data = ((predict_result / depth_max) * 255).astype(np.uint8)\n",
        "\n",
        "# カラーマップ画像へ変換\n",
        "color_map = cv2.applyColorMap(data, cv2.COLORMAP_TURBO)\n",
        "\n",
        "# 表示\n",
        "plt.imshow(color_map)"
      ]
    },
    {
      "cell_type": "markdown",
      "metadata": {
        "id": "tpEmhlY4Er2N"
      },
      "source": [
        "線画化\n",
        "\n",
        "必ず実行"
      ]
    },
    {
      "cell_type": "code",
      "execution_count": 139,
      "metadata": {
        "id": "SZ2-AmlMe7Kd"
      },
      "outputs": [],
      "source": [
        "class image_utils:\n",
        "    def median_filter(self, src, ksize):\n",
        "        d = int((ksize-1)/2)\n",
        "        h, w = src.shape[0], src.shape[1]\n",
        "        dst = src.copy()\n",
        "\n",
        "        for y in range(d, h - d):\n",
        "            for x in range(d, w - d):\n",
        "                dst[y][x] = np.median(src[y-d:y+d+1, x-d:x+d+1])\n",
        "        return dst\n",
        "\n",
        "    def export_edges_anime(self, image_raw: np.ndarray, depth_data: np.ndarray, median_ksize: int = 3, morph_g_ksize: int = 3, depth_threshold: int = 150, canny_threshold: int = 150):\n",
        "        mask = depth_data > depth_threshold\n",
        "        # maskを二値化\n",
        "        mask = mask.astype(np.uint8) * 255\n",
        "        # imageとmaskの合成\n",
        "        result = cv2.bitwise_and(image_raw, image_raw, mask=mask)\n",
        "\n",
        "        return self.anime2line(result, median_ksize=median_ksize, morph_g_ksize=morph_g_ksize, threshold=canny_threshold)\n",
        "\n",
        "    def anime2line(self, image_raw: np.ndarray, median_ksize: int = 3, morph_g_ksize: int = 3, threshold: int = 150):\n",
        "        edges = cv2.cvtColor(image_raw, cv2.COLOR_BGR2GRAY)\n",
        "\n",
        "        # Canny輪郭検出\n",
        "        edges = cv2.Canny(edges, threshold, threshold)\n",
        "\n",
        "        # MorphologyEx\n",
        "        if morph_g_ksize == 1:\n",
        "            pass\n",
        "        else:\n",
        "            kernel_giant = np.ones((morph_g_ksize, morph_g_ksize), np.uint8)\n",
        "            edges = cv2.morphologyEx(edges, cv2.MORPH_GRADIENT, kernel_giant)\n",
        "\n",
        "        # 色の反転\n",
        "        edges = cv2.bitwise_not(edges)\n",
        "        edges = edges.astype(np.uint8) * 255 * 255\n",
        "        edges = cv2.cvtColor(edges, cv2.COLOR_GRAY2BGR)\n",
        "\n",
        "        # メディアンフィルタ\n",
        "        if median_ksize == 1:\n",
        "            pass\n",
        "        else:\n",
        "            edges = self.median_filter(edges, ksize=median_ksize)\n",
        "\n",
        "        ret, output = cv2.threshold(edges, 200, 255, cv2.THRESH_BINARY)\n",
        "        return edges\n",
        "\n",
        "    # 白を透明にして色付きを半透明の白にする\n",
        "    def white2transparent(self, input_image: np.ndarray, os_type: str = 'Ubuntu'):\n",
        "        if os_type == 'Ubuntu':\n",
        "            image_png = cv2.cvtColor(input_image, cv2.COLOR_RGB2RGBA)\n",
        "            for i in range(image_png.shape[0]):\n",
        "                for j in range(image_png.shape[1]):\n",
        "                    if image_png[i][j][0] == 255 and image_png[i][j][1] == 255 and image_png[i][j][2] == 255:\n",
        "                        image_png[i][j][3] = 0\n",
        "                    else:\n",
        "                        image_png[i][j][0] = 255\n",
        "                        image_png[i][j][1] = 200\n",
        "                        image_png[i][j][2] = 255\n",
        "                        image_png[i][j][3] = 200\n",
        "        elif os_type == 'Windows':\n",
        "            image_png = cv2.cvtColor(input_image, cv2.COLOR_RGB2RGBA)\n",
        "            for i in range(image_png.shape[0]):\n",
        "                for j in range(image_png.shape[1]):\n",
        "                    if image_png[i][j][0] == 255 and image_png[i][j][1] == 255 and image_png[i][j][2] == 255:\n",
        "                        image_png[i][j][3] = 0\n",
        "                    else:\n",
        "                        image_png[i][j][0] = 200\n",
        "                        image_png[i][j][1] = 255\n",
        "                        image_png[i][j][2] = 255\n",
        "                        image_png[i][j][3] = 200\n",
        "        elif os_type == 'Mac-White':\n",
        "            image_png = cv2.cvtColor(input_image, cv2.COLOR_RGB2RGBA)\n",
        "            for i in range(image_png.shape[0]):\n",
        "                for j in range(image_png.shape[1]):\n",
        "                    if image_png[i][j][0] == 255 and image_png[i][j][1] == 255 and image_png[i][j][2] == 255:\n",
        "                        image_png[i][j][3] = 0\n",
        "                    else:\n",
        "                        image_png[i][j][0] = 200\n",
        "                        image_png[i][j][1] = 200\n",
        "                        image_png[i][j][2] = 200\n",
        "                        image_png[i][j][3] = 200\n",
        "        elif os_type == 'Mac-Gray':\n",
        "            image_png = cv2.cvtColor(input_image, cv2.COLOR_RGB2RGBA)\n",
        "            for i in range(image_png.shape[0]):\n",
        "                for j in range(image_png.shape[1]):\n",
        "                    if image_png[i][j][0] == 255 and image_png[i][j][1] == 255 and image_png[i][j][2] == 255:\n",
        "                        image_png[i][j][3] = 0\n",
        "                    else:\n",
        "                        image_png[i][j][0] = 70\n",
        "                        image_png[i][j][1] = 70\n",
        "                        image_png[i][j][2] = 70\n",
        "                        image_png[i][j][3] = 200\n",
        "        else:\n",
        "            print(\"cannot detect wallpaper OS\")\n",
        "        return image_png"
      ]
    },
    {
      "cell_type": "markdown",
      "metadata": {
        "id": "5alWTXyxE4io"
      },
      "source": [
        "線画化２"
      ]
    },
    {
      "cell_type": "markdown",
      "metadata": {
        "id": "2ambD4SrfxEs"
      },
      "source": [
        "## Informative-drawings\n",
        "ファイルのダウンロード作業。スキップするほどでもないですが、ダウンロードを行わない場合はこの工程をスキップしてください。"
      ]
    },
    {
      "cell_type": "code",
      "execution_count": 10,
      "metadata": {
        "colab": {
          "base_uri": "https://localhost:8080/"
        },
        "id": "iSLLrAFuE6aE",
        "outputId": "d7ea688b-f23a-4cd3-88c5-903ff22e3d2e"
      },
      "outputs": [
        {
          "name": "stdout",
          "output_type": "stream",
          "text": [
            "Cloning into 'informative-drawings'...\n",
            "remote: Enumerating objects: 101, done.\u001b[K\n",
            "remote: Counting objects: 100% (28/28), done.\u001b[K\n",
            "remote: Compressing objects: 100% (15/15), done.\u001b[K\n",
            "remote: Total 101 (delta 21), reused 14 (delta 13), pack-reused 73\u001b[K\n",
            "Receiving objects: 100% (101/101), 3.86 MiB | 42.01 MiB/s, done.\n",
            "Resolving deltas: 100% (39/39), done.\n",
            "/content/informative-drawings\n"
          ]
        }
      ],
      "source": [
        "!git clone https://github.com/carolineec/informative-drawings\n",
        "%cd informative-drawings\n",
        "\n",
        "!mkdir checkpoints\n",
        "!gdown 'https://drive.google.com/uc?id=11l5u5sb1PO5Z5YA3IoEHauVPm0k407C1'\n",
        "!unzip model.zip -d checkpoints"
      ]
    },
    {
      "cell_type": "code",
      "execution_count": 154,
      "metadata": {
        "id": "L5wMeGH-FPTV"
      },
      "outputs": [],
      "source": [
        "import os\n",
        "\n",
        "import torch\n",
        "from model import Generator\n",
        "\n",
        "import onnxruntime\n",
        "import cv2 as cv\n",
        "import numpy as np\n",
        "\n",
        "input_size = 512\n",
        "# ドットアクセス用の辞書クラス\n",
        "class DictDotNotation(dict): \n",
        "    def __init__(self, *args, **kwargs): \n",
        "        super().__init__(*args, **kwargs) \n",
        "        self.__dict__ = self\n",
        "# 疑似的なコマンドライン引数生成\n",
        "\n",
        "class InformativeDrawings:\n",
        "    def create_options(self) -> DictDotNotation:\n",
        "        opt = DictDotNotation()\n",
        "\n",
        "        opt.name = 'model/anime_style'\n",
        "        opt.dataroot = 'examples/test'\n",
        "        opt.checkpoints_dir = 'checkpoints'\n",
        "        opt.results_dir = 'results'\n",
        "        opt.geom_name = 'feats2Geom'\n",
        "        opt.batchSize = 1\n",
        "        opt.depthroot = ''\n",
        "        opt.input_nc = 3\n",
        "        opt.output_nc = 1\n",
        "        opt.geom_nc = 3\n",
        "        opt.every_feat = 1\n",
        "        opt.num_classes = 55\n",
        "        opt.midas = 0\n",
        "        opt.ngf = 64\n",
        "        opt.n_blocks = 3\n",
        "        opt.size = input_size\n",
        "        opt.cuda = True\n",
        "        opt.n_cpu = 8\n",
        "        opt.which_epoch = 'latest'\n",
        "        opt.aspect_ratio = 1.0\n",
        "        opt.mode = 'test'\n",
        "        opt.load_size = input_size\n",
        "        opt.crop_size = input_size\n",
        "        opt.max_dataset_size = float(\"inf\")\n",
        "        opt.preprocess = 'resize_and_crop'\n",
        "        opt.no_flip = False\n",
        "        opt.norm = 'instance'\n",
        "        opt.predict_depth = 0\n",
        "        opt.save_input = 0\n",
        "        opt.reconstruct = 0\n",
        "        opt.how_many = 100\n",
        "        return opt\n",
        "\n",
        "    def convert_to_onnx(self, net, file_name='output.onnx', input_shape=(512, 512), device='cpu'):\n",
        "        input = torch.randn(1, 3, input_shape[0], input_shape[1]).to(device)\n",
        "\n",
        "        input_layer_names = ['input_image']\n",
        "        output_layer_names = ['output_image']\n",
        "\n",
        "        torch.onnx.export(\n",
        "            net, \n",
        "            input, \n",
        "            file_name, \n",
        "            verbose=True,\n",
        "            opset_version=11,\n",
        "            input_names=input_layer_names,\n",
        "            output_names=output_layer_names,\n",
        "        )\n",
        "    \n",
        "    def export_edges_anime(self, image_raw: np.ndarray, depth_data: np.ndarray, morph_g_ksize: int = 3, depth_threshold: int = 150) -> np.ndarray:\n",
        "        mask = depth_data > depth_threshold\n",
        "        # maskを二値化\n",
        "        mask = mask.astype(np.uint8) * 255\n",
        "        # imageとmaskの合成\n",
        "        result = cv2.bitwise_and(image_raw, image_raw, mask=mask)\n",
        "\n",
        "        return self.generate(result, morph_g_ksize)\n",
        "\n",
        "    def generate(self, input_image, morph_g_ksize) -> np.ndarray:\n",
        "\n",
        "        # ネットワーク生成\n",
        "        opt = self.create_options()\n",
        "        net_G = Generator(opt.input_nc, opt.output_nc, opt.n_blocks)\n",
        "\n",
        "        # 重みをロード\n",
        "        net_G.load_state_dict(torch.load(os.path.join(opt.checkpoints_dir, opt.name, 'netG_A_%s.pth' % opt.which_epoch)))\n",
        "        device = 'cpu'\n",
        "        net_G.eval().to(device)\n",
        "\n",
        "        print('Loaded：', os.path.join(opt.checkpoints_dir, opt.name, 'netG_A_%s.pth' % opt.which_epoch))\n",
        "\n",
        "        self.convert_to_onnx(net_G, 'anime_style_512x512.onnx', (input_size, input_size), device)\n",
        "\n",
        "        # ONNXモデルロード\n",
        "        onnx_session = onnxruntime.InferenceSession(\n",
        "            'anime_style_512x512.onnx',\n",
        "            providers=['CUDAExecutionProvider', 'CPUExecutionProvider'],\n",
        "        )\n",
        "\n",
        "        input_name = onnx_session.get_inputs()[0].name\n",
        "        output_name = onnx_session.get_outputs()[0].name\n",
        "\n",
        "\n",
        "        # 前処理 (input is image)\n",
        "        image_data = cv.resize(input_image, dsize=(input_size, input_size))\n",
        "        x = cv.cvtColor(image_data, cv.COLOR_BGR2RGB)\n",
        "\n",
        "        x = np.array(x, dtype=np.float32)\n",
        "        x = x.transpose(2, 0, 1)\n",
        "        x = x.reshape(-1, 3, input_size, input_size)\n",
        "\n",
        "        # 推論\n",
        "        onnx_result = onnx_session.run([output_name], {input_name: x})\n",
        "\n",
        "        # 後処理\n",
        "        onnx_result = np.array(onnx_result).squeeze()\n",
        "        onnx_result = onnx_result * 255\n",
        "        onnx_result = onnx_result.astype(np.uint8)\n",
        "\n",
        "        \n",
        "        ret, output = cv2.threshold(onnx_result, 200, 255, cv2.THRESH_BINARY)\n",
        "\n",
        "        # kernel_giant = np.ones((morph_g_ksize, morph_g_ksize), np.uint8)\n",
        "        # output = cv2.morphologyEx(output, cv2.MORPH_GRADIENT, kernel_giant)\n",
        "\n",
        "\n",
        "        output = cv2.cvtColor(output, cv2.COLOR_GRAY2BGR)\n",
        "        output = cv2.resize(output, (image.shape[1],image.shape[0]))\n",
        "        return output\n",
        "    \n"
      ]
    },
    {
      "cell_type": "code",
      "execution_count": 155,
      "metadata": {
        "colab": {
          "base_uri": "https://localhost:8080/"
        },
        "id": "akicp1XSYg7C",
        "outputId": "2d6ba0e0-db35-4b59-84a7-dd2b15cc4fe1"
      },
      "outputs": [
        {
          "name": "stdout",
          "output_type": "stream",
          "text": [
            "using informative drawings...\n",
            "Loaded： checkpoints/model/anime_style/netG_A_latest.pth\n"
          ]
        }
      ],
      "source": [
        "image_utils_class = image_utils()\n",
        "\n",
        "if using_informative_drawings == \"True\":\n",
        "    print(\"using informative drawings...\")\n",
        "    id_class = InformativeDrawings()\n",
        "    image_line = id_class.export_edges_anime(image, depth_data=data, morph_g_ksize=morph_g_ksize, depth_threshold=depth_threshold)\n",
        "else:\n",
        "    print(\"using canny...\")\n",
        "    image_line = image_utils_class.export_edges_anime(image_raw=image, depth_data=data, median_ksize=median_ksize, morph_g_ksize=morph_g_ksize, depth_threshold=depth_threshold, canny_threshold=canny_threshold)\n",
        "#@markdown ## export_edges_anime関数\n",
        "#@markdown ### 引数一覧\n",
        "#@markdown - image_raw: 画像（読み込み時のまま）\n",
        "#@markdown - depth_data: 深度データ(2次元のndarray・0~255)\n",
        "#@markdown - threshold: 深度の閾値（0~255・int型）\n",
        "#@markdown\n",
        "#@markdown ### 出力一覧\n",
        "#@markdown - image: マスク済み画像\n",
        "#@markdown\n",
        "#@markdown ### 分岐\n",
        "#@markdown - informative drawings をTrueに設定するとAI線画に、FalseにするとCanny線画になります。"
      ]
    },
    {
      "cell_type": "code",
      "execution_count": 157,
      "metadata": {
        "id": "q-H83_5UJC54"
      },
      "outputs": [],
      "source": [
        "image_png = image_utils_class.white2transparent(image_line, OS)\n",
        "\n",
        "#@markdown ## white2transparent関数\n",
        "#@markdown 白領域を透明化する関数（色付きは半透明の白になります）"
      ]
    },
    {
      "cell_type": "code",
      "execution_count": 158,
      "metadata": {
        "colab": {
          "base_uri": "https://localhost:8080/",
          "height": 287
        },
        "id": "3pANOWzibWpL",
        "outputId": "162ef74c-184f-4e13-8331-99709d882676"
      },
      "outputs": [
        {
          "data": {
            "text/plain": [
              "<matplotlib.image.AxesImage at 0x7ff090c5b4d0>"
            ]
          },
          "execution_count": 158,
          "metadata": {},
          "output_type": "execute_result"
        },
        {
          "data": {
            "image/png": "[encoded data removed]",
            "text/plain": [
              "<Figure size 432x288 with 1 Axes>"
            ]
          },
          "metadata": {
            "needs_background": "light"
          },
          "output_type": "display_data"
        }
      ],
      "source": [
        "plt.imshow(image_png)"
      ]
    },
    {
      "cell_type": "code",
      "execution_count": 159,
      "metadata": {
        "colab": {
          "base_uri": "https://localhost:8080/",
          "height": 17
        },
        "id": "Kg-Zb97tdjBe",
        "outputId": "f1d0b87d-94d0-4120-91d8-fb1595a9561e"
      },
      "outputs": [
        {
          "data": {
            "application/javascript": "\n    async function download(id, filename, size) {\n      if (!google.colab.kernel.accessAllowed) {\n        return;\n      }\n      const div = document.createElement('div');\n      const label = document.createElement('label');\n      label.textContent = `Downloading \"${filename}\": `;\n      div.appendChild(label);\n      const progress = document.createElement('progress');\n      progress.max = size;\n      div.appendChild(progress);\n      document.body.appendChild(div);\n\n      const buffers = [];\n      let downloaded = 0;\n\n      const channel = await google.colab.kernel.comms.open(id);\n      // Send a message to notify the kernel that we're ready.\n      channel.send({})\n\n      for await (const message of channel.messages) {\n        // Send a message to notify the kernel that we're ready.\n        channel.send({})\n        if (message.buffers) {\n          for (const buffer of message.buffers) {\n            buffers.push(buffer);\n            downloaded += buffer.byteLength;\n            progress.value = downloaded;\n          }\n        }\n      }\n      const blob = new Blob(buffers, {type: 'application/binary'});\n      const a = document.createElement('a');\n      a.href = window.URL.createObjectURL(blob);\n      a.download = filename;\n      div.appendChild(a);\n      a.click();\n      div.remove();\n    }\n  ",
            "text/plain": [
              "<IPython.core.display.Javascript object>"
            ]
          },
          "metadata": {},
          "output_type": "display_data"
        },
        {
          "data": {
            "application/javascript": "download(\"download_2ed34b2c-443b-4c3c-9858-f755ec645d8e\", \"result.png\", 43580)",
            "text/plain": [
              "<IPython.core.display.Javascript object>"
            ]
          },
          "metadata": {},
          "output_type": "display_data"
        }
      ],
      "source": [
        "plt.imsave(\"/content/result.png\",image_png)\n",
        "from google.colab import files\n",
        "files.download('/content/result.png')"
      ]
    },
    {
      "cell_type": "code",
      "execution_count": null,
      "metadata": {
        "id": "nU4eubO3EveY"
      },
      "outputs": [],
      "source": [
        "# Export depth\n",
        "#@markdown convert.pyで深度情報を確認する時はこのセルを実行して`depth_result.png`をダウンロードします。\n",
        "\n",
        "# # v----この行以下をコメントアウト--------v\n",
        "# export_png = np.zeros((data.shape[0], data.shape[1], 3))\n",
        "# export_png[:,:,0] = data/255\n",
        "# export_png[:,:,1] = data/255\n",
        "# export_png[:,:,2] = data/255\n",
        "\n",
        "# plt.imsave(\"/content/depth_result.png\",export_png)\n",
        "# files.download('depth_result.png')"
      ]
    }
  ],
  "metadata": {
    "accelerator": "GPU",
    "colab": {
      "collapsed_sections": [],
      "provenance": []
    },
    "kernelspec": {
      "display_name": "Python 3.10.6 64-bit ('3.10.6')",
      "language": "python",
      "name": "python3"
    },
    "language_info": {
      "name": "python",
      "version": "3.10.6"
    },
    "vscode": {
      "interpreter": {
        "hash": "b4befac3e56e39e73ea575fd36aeeafdc8ef41834eee22ae63e330239ebc486c"
      }
    }
  },
  "nbformat": 4,
  "nbformat_minor": 0
}
