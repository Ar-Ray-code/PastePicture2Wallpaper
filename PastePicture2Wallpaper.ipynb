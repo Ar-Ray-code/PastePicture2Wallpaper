{
  "cells": [
    {
      "cell_type": "markdown",
      "metadata": {
        "id": "SwUzOv_YJ5c_"
      },
      "source": [
        "# PastePicture2Wallpaper\n",
        "\n",
        "壁紙作成のための線画作成ツールです\n",
        "\n",
        "<br>\n",
        "\n",
        "処理手順\n",
        "1. 深度閾値に従ってMidasを用いた単眼深度推定を行います\n",
        "2. Canny法による線画抽出を行います(線画化過程でノイズ除去や線を太くするなどの処理を行っています)\n",
        "3. OSの雰囲気に応じて半透明化した線画を出力します（result.pngという名前で出力されます）\n",
        "\n",
        "<br>\n",
        "\n",
        "以下のパラメータで値を弄ってください\n",
        "\n",
        "\n",
        "<!-- - image_upload_option: 画像をアップロードする方法 -->\n",
        "  <!-- - `Upload from device`: デバイスからアップロード -->\n",
        "  <!-- - `URL`: URLからダウンロード -->\n",
        "  <!-- - `Mount Drive`: Google Driveのマウントを行う -->\n",
        "<!-- - path_or_url: ダウンロード先のURLかマウント先のデバイスのパスを指定(Upload from devieの場合は無視されます) -->\n",
        "- mode: 線画処理のモード\n",
        "  - Anime : アニメ風の輪郭がはっきりとしている画像向け\n",
        "- OS: 壁紙のOSの種類によって出力される線画の雰囲気が少し変わります\n",
        "  - Mac風(灰色):パステルカラーの背景に合わせて半透明の灰色線画を出力\n",
        "  - Mac風(白色):鮮やかな背景に半透明の白線画を出力\n",
        "  - Windows風: 水色の背景にさらに明るい水色半透明の線画を出力\n",
        "  - Ubuntu風: 紫-桃色の背景に馴染む桃色半透明の線画を出力\n",
        "- median_k_size: 細かなノイズを除去します。1の場合、無効化します。\n",
        "- morph_g_ksize: モロフォジー変換用カーネルサイズ。膨張した画像と収縮した画像の差分をとる処理を行い、物体の輪郭を得ます。1の場合は無効化します。\n",
        "- depth_threshold: 出力された深度情報をもとに線画化するための閾値\n",
        "\n",
        "\n",
        "\n",
        "![](https://raw.githubusercontent.com/Ar-Ray-code/PastePicture2Wallpaper/main/images_for_readme/export-variation.png)\n",
        "\n",
        "> デバイスからのアップロードのみ受け付けています\n",
        "> \n",
        "> 直接URLを指定する場合は4番目のコードセルのURLを変更してコメントアウトを外し、以降のセルを実行（Ctrl+F10） を行ってください"
      ]
    },
    {
      "cell_type": "code",
      "execution_count": 1,
      "metadata": {
        "cellView": "form",
        "id": "9UIXNyyXdKaO"
      },
      "outputs": [],
      "source": [
        "# image_upload_option = 'Upload from device' #@param [\"Upload from device\", \"URL\", \"Mount Drive\"] {allow-input: true}\n",
        "# path_or_url = \"/content/sample.jpg\"#@param {type:\"string\"}\n",
        "\n",
        "mode = 'Anime' #@param [\"Anime\"] {allow-input: true}\n",
        "OS =  'Mac-Gray' #@param [\"Ubuntu\",\"Windows\",\"Mac-White\",\"Mac-Gray\"] {allow-input: true}\n",
        "\n",
        "# median_ksize=median_ksize, morph_g_ksize=morph_g_ksize\n",
        "\n",
        "median_ksize = 5 #@param {type:\"slider\", min:1, max:9, step:2}\n",
        "morph_g_ksize = 5 #@param {type:\"slider\", min:1, max:9, step:2}\n",
        "depth_threshold = 150 #@param {type:\"slider\", min:0, max:255, step:1}\n",
        "canny_threshold = 150 #@param {type:\"slider\", min:0, max:255, step:1}"
      ]
    },
    {
      "cell_type": "code",
      "execution_count": null,
      "metadata": {
        "cellView": "form",
        "id": "8PbJjVsrTrzK"
      },
      "outputs": [],
      "source": [
        "# Upload from device\n",
        "from google.colab import files\n",
        "uploaded = files.upload()\n",
        "\n",
        "#@markdown ### アップロードを (Choose Files)から行ってください\n",
        "#@markdown Driveのマウントの場合はこのステップを飛ばして、新しくコードセルを作成して、`/content`に対象ファイルをコピーしてください\n",
        "\n",
        "# from google.colab import drive\n",
        "# drive.mount('/content/drive')"
      ]
    },
    {
      "cell_type": "code",
      "execution_count": 3,
      "metadata": {
        "cellView": "form",
        "id": "maDiodVfAc1F"
      },
      "outputs": [],
      "source": [
        "#@markdown ###URLを指定する場合はこちらを編集し、upload.jpgで保存すること\n",
        "# !rm sample.jpg\n",
        "# !wget \"https://drive.google.com/uc?export=download&id=1M1eDdinWr-aPT28cyOo01LlMFUnsBbRQ\" -O upload.jpg"
      ]
    },
    {
      "cell_type": "code",
      "execution_count": null,
      "metadata": {
        "id": "LofUpIu2f2bJ"
      },
      "outputs": [],
      "source": [
        "!ffmpeg -i *.png upload.jpg\n",
        "!ffmpeg -i *.jpg upload.jpg"
      ]
    },
    {
      "cell_type": "code",
      "execution_count": null,
      "metadata": {
        "id": "Z81Rg6PoAhDc"
      },
      "outputs": [],
      "source": [
        "!pip install \\\n",
        "    tensorflow==2.8.0 \\\n",
        "    tensorflow-hub==0.12.0 \\"
      ]
    },
    {
      "cell_type": "code",
      "execution_count": null,
      "metadata": {
        "id": "03GuyT13CK4Y"
      },
      "outputs": [],
      "source": [
        "import cv2\n",
        "import numpy as np\n",
        "\n",
        "import matplotlib.pyplot as plt\n",
        "import tensorflow_hub as hub\n",
        "\n",
        "module = hub.load(\"https://tfhub.dev/intel/midas/v2_1_small/1\", tags=['serve'])\n",
        "model = module.signatures['serving_default']"
      ]
    },
    {
      "cell_type": "code",
      "execution_count": 7,
      "metadata": {
        "id": "bxBmGrkbCNoT"
      },
      "outputs": [],
      "source": [
        "import tensorflow as tf\n",
        "\n",
        "# 画像読み込み\n",
        "image = cv2.imread('/content/upload.jpg')\n",
        "\n",
        "# リサイズ\n",
        "resize_image = cv2.resize(image, (256, 256))\n",
        "\n",
        "# 正規化\n",
        "resize_image = cv2.cvtColor(resize_image, cv2.COLOR_BGR2RGB) / 255.0\n",
        "\n",
        "# 形状変更\n",
        "resize_image = resize_image.transpose(2, 0, 1)\n",
        "resize_image = resize_image.reshape(1, 3, 256, 256)\n",
        "\n",
        "# tensor形式へ変換\n",
        "tensor = tf.convert_to_tensor(resize_image, dtype=tf.float32)"
      ]
    },
    {
      "cell_type": "code",
      "execution_count": 8,
      "metadata": {
        "id": "rtxt6M8KCPG5"
      },
      "outputs": [],
      "source": [
        "result = model(tensor)\n",
        "predict_result = result['default'].numpy()\n",
        "predict_result = np.squeeze(predict_result)"
      ]
    },
    {
      "cell_type": "code",
      "execution_count": 9,
      "metadata": {
        "colab": {
          "base_uri": "https://localhost:8080/",
          "height": 286
        },
        "id": "mEoF2RQECR0D",
        "outputId": "0dd891bf-3265-4c5b-ea67-ca04f5d92207"
      },
      "outputs": [
        {
          "data": {
            "text/plain": [
              "<matplotlib.image.AxesImage at 0x7fe94665d050>"
            ]
          },
          "execution_count": 9,
          "metadata": {},
          "output_type": "execute_result"
        },
        {
          "data": {
            "image/png": "[encoded data removed]",
            "text/plain": [
              "<Figure size 432x288 with 1 Axes>"
            ]
          },
          "metadata": {
            "needs_background": "light"
          },
          "output_type": "display_data"
        }
      ],
      "source": [
        "# オリジナル画像のサイズにリサイズ\n",
        "predict_result = cv2.resize(predict_result, (image.shape[1], image.shape[0]))\n",
        "\n",
        "# 最大値が255になるよう変換\n",
        "depth_max = predict_result.max()\n",
        "data = ((predict_result / depth_max) * 255).astype(np.uint8)\n",
        "\n",
        "# カラーマップ画像へ変換\n",
        "color_map = cv2.applyColorMap(data, cv2.COLORMAP_TURBO)\n",
        "\n",
        "# 表示\n",
        "plt.imshow(color_map)"
      ]
    },
    {
      "cell_type": "code",
      "execution_count": 12,
      "metadata": {
        "id": "SZ2-AmlMe7Kd"
      },
      "outputs": [],
      "source": [
        "class image_utils:\n",
        "    def median_filter(self, src, ksize):\n",
        "        d = int((ksize-1)/2)\n",
        "        h, w = src.shape[0], src.shape[1]\n",
        "        dst = src.copy()\n",
        "\n",
        "        for y in range(d, h - d):\n",
        "            for x in range(d, w - d):\n",
        "                dst[y][x] = np.median(src[y-d:y+d+1, x-d:x+d+1])\n",
        "        return dst\n",
        "\n",
        "    def export_edges_anime(self, image_raw: np.ndarray, depth_data: np.ndarray, median_ksize: int = 3, morph_g_ksize: int = 3, depth_threshold: int = 150, canny_threshold: int = 150):\n",
        "        mask = depth_data > depth_threshold\n",
        "        # maskを二値化\n",
        "        mask = mask.astype(np.uint8) * 255\n",
        "        # imageとmaskの合成\n",
        "        result = cv2.bitwise_and(image_raw, image_raw, mask=mask)\n",
        "\n",
        "        return self.anime2line(result, median_ksize=median_ksize, morph_g_ksize=morph_g_ksize, threshold=canny_threshold)\n",
        "\n",
        "    def anime2line(self, image_raw: np.ndarray, median_ksize: int = 3, morph_g_ksize: int = 3, threshold: int = 150):\n",
        "        edges = cv2.cvtColor(image_raw, cv2.COLOR_BGR2GRAY)\n",
        "\n",
        "        # Canny輪郭検出\n",
        "        edges = cv2.Canny(edges, threshold, threshold)\n",
        "\n",
        "        # MorphologyEx\n",
        "        if morph_g_ksize == 1:\n",
        "            pass\n",
        "        else:\n",
        "            kernel_giant = np.ones((morph_g_ksize, morph_g_ksize), np.uint8)\n",
        "            edges = cv2.morphologyEx(edges, cv2.MORPH_GRADIENT, kernel_giant)\n",
        "\n",
        "        # 色の反転\n",
        "        edges = cv2.bitwise_not(edges)\n",
        "        edges = edges.astype(np.uint8) * 255 * 255\n",
        "        edges = cv2.cvtColor(edges, cv2.COLOR_GRAY2BGR)\n",
        "\n",
        "        # メディアンフィルタ\n",
        "        if median_ksize == 1:\n",
        "            pass\n",
        "        else:\n",
        "            edges = self.median_filter(edges, ksize=median_ksize)\n",
        "\n",
        "        return edges\n",
        "\n",
        "    # 白を透明にして色付きを半透明の白にする\n",
        "    def white2transparent(self, input_image: np.ndarray, os_type: str = 'Ubuntu'):\n",
        "        if os_type == 'Ubuntu':\n",
        "            image_png = cv2.cvtColor(input_image, cv2.COLOR_RGB2RGBA)\n",
        "            for i in range(image_png.shape[0]):\n",
        "                for j in range(image_png.shape[1]):\n",
        "                    if image_png[i][j][0] == 255 and image_png[i][j][1] == 255 and image_png[i][j][2] == 255:\n",
        "                        image_png[i][j][3] = 0\n",
        "                    else:\n",
        "                        image_png[i][j][0] = 255\n",
        "                        image_png[i][j][1] = 200\n",
        "                        image_png[i][j][2] = 255\n",
        "                        image_png[i][j][3] = 200\n",
        "        elif os_type == 'Windows':\n",
        "            image_png = cv2.cvtColor(input_image, cv2.COLOR_RGB2RGBA)\n",
        "            for i in range(image_png.shape[0]):\n",
        "                for j in range(image_png.shape[1]):\n",
        "                    if image_png[i][j][0] == 255 and image_png[i][j][1] == 255 and image_png[i][j][2] == 255:\n",
        "                        image_png[i][j][3] = 0\n",
        "                    else:\n",
        "                        image_png[i][j][0] = 200\n",
        "                        image_png[i][j][1] = 255\n",
        "                        image_png[i][j][2] = 255\n",
        "                        image_png[i][j][3] = 200\n",
        "        elif os_type == 'Mac-White':\n",
        "            image_png = cv2.cvtColor(input_image, cv2.COLOR_RGB2RGBA)\n",
        "            for i in range(image_png.shape[0]):\n",
        "                for j in range(image_png.shape[1]):\n",
        "                    if image_png[i][j][0] == 255 and image_png[i][j][1] == 255 and image_png[i][j][2] == 255:\n",
        "                        image_png[i][j][3] = 0\n",
        "                    else:\n",
        "                        image_png[i][j][0] = 200\n",
        "                        image_png[i][j][1] = 200\n",
        "                        image_png[i][j][2] = 200\n",
        "                        image_png[i][j][3] = 200\n",
        "        elif os_type == 'Mac-Gray':\n",
        "            image_png = cv2.cvtColor(input_image, cv2.COLOR_RGB2RGBA)\n",
        "            for i in range(image_png.shape[0]):\n",
        "                for j in range(image_png.shape[1]):\n",
        "                    if image_png[i][j][0] == 255 and image_png[i][j][1] == 255 and image_png[i][j][2] == 255:\n",
        "                        image_png[i][j][3] = 0\n",
        "                    else:\n",
        "                        image_png[i][j][0] = 70\n",
        "                        image_png[i][j][1] = 70\n",
        "                        image_png[i][j][2] = 70\n",
        "                        image_png[i][j][3] = 200\n",
        "        else:\n",
        "            print(\"cannot detect wallpaper OS\")\n",
        "        return image_png"
      ]
    },
    {
      "cell_type": "code",
      "execution_count": 13,
      "metadata": {
        "cellView": "form",
        "id": "akicp1XSYg7C"
      },
      "outputs": [],
      "source": [
        "image_utils_class = image_utils()\n",
        "\n",
        "image_line = image_utils_class.export_edges_anime(image_raw=image, depth_data=data, median_ksize=median_ksize, morph_g_ksize=morph_g_ksize, depth_threshold=depth_threshold, canny_threshold=canny_threshold)\n",
        "#@markdown ## export_edges_anime関数\n",
        "#@markdown ### 引数一覧\n",
        "#@markdown - image_raw: 画像（読み込み時のまま）\n",
        "#@markdown - depth_data: 深度データ(2次元のndarray・0~255)\n",
        "#@markdown - threshold: 深度の閾値（0~255・int型）\n",
        "#@markdown\n",
        "#@markdown ### 出力一覧\n",
        "#@markdown - image: マスク済み画像"
      ]
    },
    {
      "cell_type": "code",
      "execution_count": 14,
      "metadata": {
        "cellView": "form",
        "id": "q-H83_5UJC54"
      },
      "outputs": [],
      "source": [
        "image_png = image_utils_class.white2transparent(image_line, OS)\n",
        "\n",
        "#@markdown ## white2transparent関数\n",
        "#@markdown 白領域を透明化する関数（色付きは半透明の白になります）"
      ]
    },
    {
      "cell_type": "code",
      "execution_count": null,
      "metadata": {
        "colab": {
          "base_uri": "https://localhost:8080/",
          "height": 17
        },
        "id": "Kg-Zb97tdjBe",
        "outputId": "5ab945ac-63c7-4a31-c140-d08d438ddaf8"
      },
      "outputs": [],
      "source": [
        "plt.imsave(\"/content/result.png\",image_png)\n",
        "from google.colab import files\n",
        "files.download('result.png')"
      ]
    },
    {
      "cell_type": "code",
      "execution_count": 16,
      "metadata": {
        "id": "nU4eubO3EveY"
      },
      "outputs": [],
      "source": [
        "# Export depth\n",
        "#@markdown convert.pyで深度情報を確認する時はこのセルを実行して`depth_result.png`をダウンロードします。\n",
        "\n",
        "# # v----この行以下をコメントアウト--------v\n",
        "# export_png = np.zeros((data.shape[0], data.shape[1], 3))\n",
        "# export_png[:,:,0] = data/255\n",
        "# export_png[:,:,1] = data/255\n",
        "# export_png[:,:,2] = data/255\n",
        "\n",
        "# plt.imsave(\"/content/depth_result.png\",export_png)\n",
        "# files.download('depth_result.png')"
      ]
    }
  ],
  "metadata": {
    "accelerator": "GPU",
    "colab": {
      "collapsed_sections": [],
      "name": "PastePicture2Wallpaper.ipynb",
      "provenance": []
    },
    "kernelspec": {
      "display_name": "Python 3",
      "name": "python3"
    },
    "language_info": {
      "name": "python"
    }
  },
  "nbformat": 4,
  "nbformat_minor": 0
}
